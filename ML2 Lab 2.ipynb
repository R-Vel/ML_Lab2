{
 "cells": [
  {
   "cell_type": "code",
   "execution_count": 1,
   "id": "05f8d56d-702f-40d1-baca-54b089e60e16",
   "metadata": {
    "execution": {
     "iopub.execute_input": "2025-09-16T04:18:00.772958Z",
     "iopub.status.busy": "2025-09-16T04:18:00.771812Z",
     "iopub.status.idle": "2025-09-16T04:18:03.130461Z",
     "shell.execute_reply": "2025-09-16T04:18:03.128677Z",
     "shell.execute_reply.started": "2025-09-16T04:18:00.772896Z"
    }
   },
   "outputs": [
    {
     "name": "stdout",
     "output_type": "stream",
     "text": [
      "zsh:1: command not found: pip\n"
     ]
    }
   ],
   "source": [
    "!pip install joblib==1.5.1\n",
    "\n",
    "\n",
    "import pandas as pd\n",
    "import numpy as np\n",
    "import matplotlib.pyplot as plt\n",
    "\n",
    "from sklearn.model_selection import train_test_split\n",
    "from sklearn.base import clone\n",
    "from sklearn.metrics import classification_report, f1_score, confusion_matrix\n",
    "\n",
    "from joblib import load"
   ]
  },
  {
   "cell_type": "markdown",
   "id": "8cb653f7",
   "metadata": {},
   "source": [
    "# Understanding the Model"
   ]
  },
  {
   "cell_type": "code",
   "execution_count": 32,
   "id": "81cdbe4e",
   "metadata": {},
   "outputs": [
    {
     "data": {
      "text/html": [
       "<div>\n",
       "<style scoped>\n",
       "    .dataframe tbody tr th:only-of-type {\n",
       "        vertical-align: middle;\n",
       "    }\n",
       "\n",
       "    .dataframe tbody tr th {\n",
       "        vertical-align: top;\n",
       "    }\n",
       "\n",
       "    .dataframe thead th {\n",
       "        text-align: right;\n",
       "    }\n",
       "</style>\n",
       "<table border=\"1\" class=\"dataframe\">\n",
       "  <thead>\n",
       "    <tr style=\"text-align: right;\">\n",
       "      <th></th>\n",
       "      <th>baby_id</th>\n",
       "      <th>name</th>\n",
       "      <th>gender</th>\n",
       "      <th>gestational_age_weeks</th>\n",
       "      <th>birth_weight_kg</th>\n",
       "      <th>birth_length_cm</th>\n",
       "      <th>birth_head_circumference_cm</th>\n",
       "      <th>date</th>\n",
       "      <th>age_days</th>\n",
       "      <th>weight_kg</th>\n",
       "      <th>...</th>\n",
       "      <th>oxygen_saturation</th>\n",
       "      <th>feeding_type</th>\n",
       "      <th>feeding_frequency_per_day</th>\n",
       "      <th>urine_output_count</th>\n",
       "      <th>stool_count</th>\n",
       "      <th>jaundice_level_mg_dl</th>\n",
       "      <th>apgar_score</th>\n",
       "      <th>immunizations_done</th>\n",
       "      <th>reflexes_normal</th>\n",
       "      <th>risk_level</th>\n",
       "    </tr>\n",
       "  </thead>\n",
       "  <tbody>\n",
       "    <tr>\n",
       "      <th>0</th>\n",
       "      <td>B001</td>\n",
       "      <td>Sara</td>\n",
       "      <td>Female</td>\n",
       "      <td>40.2</td>\n",
       "      <td>3.3</td>\n",
       "      <td>50.0</td>\n",
       "      <td>31.9</td>\n",
       "      <td>2024-12-10</td>\n",
       "      <td>1</td>\n",
       "      <td>3.28</td>\n",
       "      <td>...</td>\n",
       "      <td>98</td>\n",
       "      <td>Formula</td>\n",
       "      <td>11</td>\n",
       "      <td>9</td>\n",
       "      <td>0</td>\n",
       "      <td>4.2</td>\n",
       "      <td>7.0</td>\n",
       "      <td>Yes</td>\n",
       "      <td>Yes</td>\n",
       "      <td>At Risk</td>\n",
       "    </tr>\n",
       "    <tr>\n",
       "      <th>1</th>\n",
       "      <td>B001</td>\n",
       "      <td>Sara</td>\n",
       "      <td>Female</td>\n",
       "      <td>40.2</td>\n",
       "      <td>3.3</td>\n",
       "      <td>50.0</td>\n",
       "      <td>31.9</td>\n",
       "      <td>2024-12-11</td>\n",
       "      <td>2</td>\n",
       "      <td>3.35</td>\n",
       "      <td>...</td>\n",
       "      <td>99</td>\n",
       "      <td>Formula</td>\n",
       "      <td>11</td>\n",
       "      <td>5</td>\n",
       "      <td>2</td>\n",
       "      <td>10.6</td>\n",
       "      <td>NaN</td>\n",
       "      <td>No</td>\n",
       "      <td>No</td>\n",
       "      <td>At Risk</td>\n",
       "    </tr>\n",
       "    <tr>\n",
       "      <th>2</th>\n",
       "      <td>B001</td>\n",
       "      <td>Sara</td>\n",
       "      <td>Female</td>\n",
       "      <td>40.2</td>\n",
       "      <td>3.3</td>\n",
       "      <td>50.0</td>\n",
       "      <td>31.9</td>\n",
       "      <td>2024-12-12</td>\n",
       "      <td>3</td>\n",
       "      <td>3.35</td>\n",
       "      <td>...</td>\n",
       "      <td>97</td>\n",
       "      <td>Breastfeeding</td>\n",
       "      <td>7</td>\n",
       "      <td>6</td>\n",
       "      <td>5</td>\n",
       "      <td>9.8</td>\n",
       "      <td>NaN</td>\n",
       "      <td>No</td>\n",
       "      <td>No</td>\n",
       "      <td>Healthy</td>\n",
       "    </tr>\n",
       "    <tr>\n",
       "      <th>3</th>\n",
       "      <td>B001</td>\n",
       "      <td>Sara</td>\n",
       "      <td>Female</td>\n",
       "      <td>40.2</td>\n",
       "      <td>3.3</td>\n",
       "      <td>50.0</td>\n",
       "      <td>31.9</td>\n",
       "      <td>2024-12-13</td>\n",
       "      <td>4</td>\n",
       "      <td>3.48</td>\n",
       "      <td>...</td>\n",
       "      <td>97</td>\n",
       "      <td>Mixed</td>\n",
       "      <td>11</td>\n",
       "      <td>8</td>\n",
       "      <td>4</td>\n",
       "      <td>8.1</td>\n",
       "      <td>NaN</td>\n",
       "      <td>No</td>\n",
       "      <td>Yes</td>\n",
       "      <td>Healthy</td>\n",
       "    </tr>\n",
       "    <tr>\n",
       "      <th>4</th>\n",
       "      <td>B001</td>\n",
       "      <td>Sara</td>\n",
       "      <td>Female</td>\n",
       "      <td>40.2</td>\n",
       "      <td>3.3</td>\n",
       "      <td>50.0</td>\n",
       "      <td>31.9</td>\n",
       "      <td>2024-12-14</td>\n",
       "      <td>5</td>\n",
       "      <td>3.50</td>\n",
       "      <td>...</td>\n",
       "      <td>96</td>\n",
       "      <td>Breastfeeding</td>\n",
       "      <td>11</td>\n",
       "      <td>7</td>\n",
       "      <td>1</td>\n",
       "      <td>11.6</td>\n",
       "      <td>NaN</td>\n",
       "      <td>No</td>\n",
       "      <td>Yes</td>\n",
       "      <td>At Risk</td>\n",
       "    </tr>\n",
       "  </tbody>\n",
       "</table>\n",
       "<p>5 rows × 25 columns</p>\n",
       "</div>"
      ],
      "text/plain": [
       "  baby_id  name  gender  gestational_age_weeks  birth_weight_kg  \\\n",
       "0    B001  Sara  Female                   40.2              3.3   \n",
       "1    B001  Sara  Female                   40.2              3.3   \n",
       "2    B001  Sara  Female                   40.2              3.3   \n",
       "3    B001  Sara  Female                   40.2              3.3   \n",
       "4    B001  Sara  Female                   40.2              3.3   \n",
       "\n",
       "   birth_length_cm  birth_head_circumference_cm        date  age_days  \\\n",
       "0             50.0                         31.9  2024-12-10         1   \n",
       "1             50.0                         31.9  2024-12-11         2   \n",
       "2             50.0                         31.9  2024-12-12         3   \n",
       "3             50.0                         31.9  2024-12-13         4   \n",
       "4             50.0                         31.9  2024-12-14         5   \n",
       "\n",
       "   weight_kg  ...  oxygen_saturation   feeding_type  \\\n",
       "0       3.28  ...                 98        Formula   \n",
       "1       3.35  ...                 99        Formula   \n",
       "2       3.35  ...                 97  Breastfeeding   \n",
       "3       3.48  ...                 97          Mixed   \n",
       "4       3.50  ...                 96  Breastfeeding   \n",
       "\n",
       "   feeding_frequency_per_day  urine_output_count  stool_count  \\\n",
       "0                         11                   9            0   \n",
       "1                         11                   5            2   \n",
       "2                          7                   6            5   \n",
       "3                         11                   8            4   \n",
       "4                         11                   7            1   \n",
       "\n",
       "   jaundice_level_mg_dl apgar_score  immunizations_done  reflexes_normal  \\\n",
       "0                   4.2         7.0                 Yes              Yes   \n",
       "1                  10.6         NaN                  No               No   \n",
       "2                   9.8         NaN                  No               No   \n",
       "3                   8.1         NaN                  No              Yes   \n",
       "4                  11.6         NaN                  No              Yes   \n",
       "\n",
       "   risk_level  \n",
       "0     At Risk  \n",
       "1     At Risk  \n",
       "2     Healthy  \n",
       "3     Healthy  \n",
       "4     At Risk  \n",
       "\n",
       "[5 rows x 25 columns]"
      ]
     },
     "execution_count": 32,
     "metadata": {},
     "output_type": "execute_result"
    }
   ],
   "source": [
    "df = pd.read_csv(\"historical.csv\")\n",
    "\n",
    "df.head()"
   ]
  },
  {
   "cell_type": "code",
   "execution_count": 33,
   "id": "67abc3c0",
   "metadata": {},
   "outputs": [
    {
     "name": "stdout",
     "output_type": "stream",
     "text": [
      "Shape of the database: (2100, 25)\n",
      "\n",
      "baby_id                         object\n",
      "name                            object\n",
      "gender                          object\n",
      "gestational_age_weeks          float64\n",
      "birth_weight_kg                float64\n",
      "birth_length_cm                float64\n",
      "birth_head_circumference_cm    float64\n",
      "date                            object\n",
      "age_days                         int64\n",
      "weight_kg                      float64\n",
      "length_cm                      float64\n",
      "head_circumference_cm          float64\n",
      "temperature_c                  float64\n",
      "heart_rate_bpm                   int64\n",
      "respiratory_rate_bpm             int64\n",
      "oxygen_saturation                int64\n",
      "feeding_type                    object\n",
      "feeding_frequency_per_day        int64\n",
      "urine_output_count               int64\n",
      "stool_count                      int64\n",
      "jaundice_level_mg_dl           float64\n",
      "apgar_score                    float64\n",
      "immunizations_done              object\n",
      "reflexes_normal                 object\n",
      "risk_level                      object\n",
      "dtype: object\n"
     ]
    }
   ],
   "source": [
    "print(f\"Shape of the database: {df.shape}\")\n",
    "print()\n",
    "print(df.dtypes)"
   ]
  },
  {
   "cell_type": "markdown",
   "id": "70f49f40",
   "metadata": {},
   "source": [
    "The database contains 2100 rows and 25 columns. Specify column names"
   ]
  },
  {
   "cell_type": "markdown",
   "id": "d1ae862e",
   "metadata": {},
   "source": [
    "then next part is highlighting the duplicate names/id numbers"
   ]
  },
  {
   "cell_type": "markdown",
   "id": "cd455ed1",
   "metadata": {},
   "source": [
    "### Handling Null Values"
   ]
  },
  {
   "cell_type": "code",
   "execution_count": null,
   "id": "eaf043bd",
   "metadata": {},
   "outputs": [
    {
     "data": {
      "text/plain": [
       "baby_id                           0\n",
       "name                              0\n",
       "gender                            0\n",
       "gestational_age_weeks             0\n",
       "birth_weight_kg                   0\n",
       "birth_length_cm                   0\n",
       "birth_head_circumference_cm       0\n",
       "date                              0\n",
       "age_days                          0\n",
       "weight_kg                         0\n",
       "length_cm                         0\n",
       "head_circumference_cm             0\n",
       "temperature_c                     0\n",
       "heart_rate_bpm                    0\n",
       "respiratory_rate_bpm              0\n",
       "oxygen_saturation                 0\n",
       "feeding_type                      0\n",
       "feeding_frequency_per_day         0\n",
       "urine_output_count                0\n",
       "stool_count                       0\n",
       "jaundice_level_mg_dl              0\n",
       "apgar_score                    2030\n",
       "immunizations_done                0\n",
       "reflexes_normal                   0\n",
       "risk_level                        0\n",
       "dtype: int64"
      ]
     },
     "execution_count": 10,
     "metadata": {},
     "output_type": "execute_result"
    }
   ],
   "source": [
    "df.isna().sum()"
   ]
  },
  {
   "cell_type": "markdown",
   "id": "a1d27119",
   "metadata": {},
   "source": [
    "then define what Apgar is and why it's probably null"
   ]
  },
  {
   "cell_type": "markdown",
   "id": "a90e510c",
   "metadata": {},
   "source": [
    "# Dissecting the Model"
   ]
  },
  {
   "cell_type": "code",
   "execution_count": null,
   "id": "7a107ba8",
   "metadata": {},
   "outputs": [],
   "source": [
    "# -----------------------------\n",
    "# Load pipeline (preprocess + LogisticRegression)\n",
    "# -----------------------------\n",
    "pipe = load(\"model.joblib\")\n",
    "\n",
    "pipe"
   ]
  },
  {
   "cell_type": "markdown",
   "id": "550c9b46",
   "metadata": {},
   "source": [
    "describe the parameters per step"
   ]
  },
  {
   "cell_type": "code",
   "execution_count": 26,
   "id": "3b975fcd",
   "metadata": {},
   "outputs": [
    {
     "data": {
      "text/plain": [
       "[('num',\n",
       "  StandardScaler(),\n",
       "  ['gestational_age_weeks',\n",
       "   'birth_weight_kg',\n",
       "   'birth_length_cm',\n",
       "   'birth_head_circumference_cm',\n",
       "   'age_days',\n",
       "   'weight_kg',\n",
       "   'length_cm',\n",
       "   'head_circumference_cm',\n",
       "   'temperature_c',\n",
       "   'heart_rate_bpm',\n",
       "   'respiratory_rate_bpm',\n",
       "   'oxygen_saturation',\n",
       "   'feeding_frequency_per_day',\n",
       "   'urine_output_count',\n",
       "   'stool_count',\n",
       "   'jaundice_level_mg_dl']),\n",
       " ('cat',\n",
       "  OneHotEncoder(drop='if_binary', handle_unknown='ignore'),\n",
       "  ['gender', 'feeding_type', 'immunizations_done', 'reflexes_normal'])]"
      ]
     },
     "execution_count": 26,
     "metadata": {},
     "output_type": "execute_result"
    }
   ],
   "source": [
    "pipe.named_steps['preprocess'].transformers_\n"
   ]
  },
  {
   "cell_type": "markdown",
   "id": "c36ab9fa",
   "metadata": {},
   "source": [
    "note that the 3 columns are missing from the transformers in the preprocessing step of the old model:\n",
    "- baby_id\n",
    "- name\n",
    "- date\n",
    "- apgar_score\n",
    "\n",
    "This would probably suggest that these columns were dropped before loading the data into the model. The columns for Baby ID and name may have been dropped because these columns served as unque identifiers or labels of the data points, not a feature or column the model needs to identify patterns. \n",
    "\n",
    "Then, explain date (still unsure now why the dropped it)\n",
    "\n",
    "On the other hand, the column for apgar score may have been dropped because it contains 2030 missing values. Dropping rows will empty values would reduce the database to 70 data points, which is not enough to train the model. Therefore, Data Monitors may have decided to drop the column instead to preserve majority of the data."
   ]
  },
  {
   "cell_type": "code",
   "execution_count": 57,
   "id": "621f2d66",
   "metadata": {},
   "outputs": [],
   "source": [
    "target_col = \"risk_level\"\n",
    "dropped_col = [\"baby_id\", \"name\", \"date\", \"apgar_score\"]\n",
    "X = df.drop(columns=[target_col])\n",
    "X = X.drop(columns=dropped_col)\n",
    "y = df[target_col]"
   ]
  },
  {
   "cell_type": "code",
   "execution_count": 58,
   "id": "192126c1",
   "metadata": {},
   "outputs": [],
   "source": [
    "# -----------------------------\n",
    "# Outer split: hold-out test set\n",
    "# -----------------------------\n",
    "X_train_full, X_test, y_train_full, y_test = train_test_split(\n",
    "    X, y, test_size=0.20, random_state=0\n",
    ")\n",
    "\n",
    "# Inner split: train vs validation from outer training\n",
    "X_train, X_val, y_train, y_val = train_test_split(\n",
    "    X_train_full, y_train_full, test_size=0.25, random_state=0\n",
    ")\n",
    "# (Resulting split = 60% train, 20% val, 20% test)"
   ]
  },
  {
   "cell_type": "code",
   "execution_count": 59,
   "id": "e36e12ec",
   "metadata": {},
   "outputs": [],
   "source": [
    "model = pipe.fit(X_train, y_train)\n",
    "\n",
    "train_acc = model.score(X_train, y_train)\n",
    "val_acc = model.score(X_val, y_val)\n",
    "test_acc = model.score(X_test, y_test)"
   ]
  },
  {
   "cell_type": "code",
   "execution_count": 60,
   "id": "e07ceebb",
   "metadata": {},
   "outputs": [
    {
     "name": "stdout",
     "output_type": "stream",
     "text": [
      "C=1 | Train=0.9278 | Val=0.9310 | Test=0.9095\n"
     ]
    }
   ],
   "source": [
    "print(f\"C={1} | Train={train_acc:.4f} | Val={val_acc:.4f} | Test={test_acc:.4f}\")"
   ]
  },
  {
   "cell_type": "code",
   "execution_count": null,
   "id": "04df1cb5",
   "metadata": {},
   "outputs": [],
   "source": [
    "df['apgar_score'] = df['apgar_score'].ffill()"
   ]
  },
  {
   "cell_type": "markdown",
   "id": "e3037fc3",
   "metadata": {},
   "source": [
    "# Remove Later"
   ]
  },
  {
   "cell_type": "code",
   "execution_count": 16,
   "id": "c4a39a85",
   "metadata": {},
   "outputs": [],
   "source": [
    "y_act = hist_df[\"risk_level\"].map({\"Healthy\": 0, \"At Risk\": 1})\n",
    "X_old = hist_df.drop(\"risk_level\", axis = 1)"
   ]
  },
  {
   "cell_type": "code",
   "execution_count": 17,
   "id": "3b96ffb0",
   "metadata": {},
   "outputs": [
    {
     "name": "stdout",
     "output_type": "stream",
     "text": [
      "F1 Score: 0.6775\n",
      "              precision    recall  f1-score   support\n",
      "\n",
      "           0       0.94      0.97      0.96      1822\n",
      "           1       0.78      0.60      0.68       278\n",
      "\n",
      "    accuracy                           0.92      2100\n",
      "   macro avg       0.86      0.79      0.82      2100\n",
      "weighted avg       0.92      0.92      0.92      2100\n",
      "\n"
     ]
    }
   ],
   "source": [
    "y_pred = model.predict(X_old)\n",
    "\n",
    "print(f\"F1 Score: {f1_score(y_act, y_pred):.4f}\")\n",
    "print(classification_report(y_act, y_pred))"
   ]
  },
  {
   "cell_type": "code",
   "execution_count": 21,
   "id": "89706221-a160-40c4-bdeb-ea1553755fd2",
   "metadata": {
    "execution": {
     "iopub.execute_input": "2025-09-16T03:32:41.993768Z",
     "iopub.status.busy": "2025-09-16T03:32:41.993574Z",
     "iopub.status.idle": "2025-09-16T03:32:42.016102Z",
     "shell.execute_reply": "2025-09-16T03:32:42.014108Z",
     "shell.execute_reply.started": "2025-09-16T03:32:41.993752Z"
    }
   },
   "outputs": [],
   "source": [
    "X_new = pd.read_csv('test.csv')\n",
    "y_pred = model.predict(X_new)"
   ]
  },
  {
   "cell_type": "markdown",
   "id": "3ca5bdfd",
   "metadata": {},
   "source": [
    "# Trying to recreate the Accuracy in the Model Specifications"
   ]
  },
  {
   "cell_type": "code",
   "execution_count": 22,
   "id": "497b84ec-414f-4edf-b656-bda0686afb92",
   "metadata": {
    "execution": {
     "iopub.execute_input": "2025-09-16T03:32:42.020969Z",
     "iopub.status.busy": "2025-09-16T03:32:42.019636Z",
     "iopub.status.idle": "2025-09-16T03:32:42.058318Z",
     "shell.execute_reply": "2025-09-16T03:32:42.056381Z",
     "shell.execute_reply.started": "2025-09-16T03:32:42.020905Z"
    }
   },
   "outputs": [
    {
     "name": "stdout",
     "output_type": "stream",
     "text": [
      "dict_keys(['preprocess', 'clf'])\n",
      "{'force_int_remainder_cols': 'deprecated', 'n_jobs': None, 'remainder': 'drop', 'sparse_threshold': 0.3, 'transformer_weights': None, 'transformers': [('num', StandardScaler(), <sklearn.compose._column_transformer.make_column_selector object at 0x759615ad2990>), ('cat', OneHotEncoder(drop='if_binary', handle_unknown='ignore'), <sklearn.compose._column_transformer.make_column_selector object at 0x7596159c2ff0>)], 'verbose': False, 'verbose_feature_names_out': True, 'num': StandardScaler(), 'cat': OneHotEncoder(drop='if_binary', handle_unknown='ignore'), 'num__copy': True, 'num__with_mean': True, 'num__with_std': True, 'cat__categories': 'auto', 'cat__drop': 'if_binary', 'cat__dtype': <class 'numpy.float64'>, 'cat__feature_name_combiner': 'concat', 'cat__handle_unknown': 'ignore', 'cat__max_categories': None, 'cat__min_frequency': None, 'cat__sparse_output': True}\n",
      "{'C': 1.0, 'class_weight': None, 'dual': False, 'fit_intercept': True, 'intercept_scaling': 1, 'l1_ratio': None, 'max_iter': 100, 'multi_class': 'deprecated', 'n_jobs': None, 'penalty': 'l2', 'random_state': 0, 'solver': 'lbfgs', 'tol': 0.0001, 'verbose': 0, 'warm_start': False}\n"
     ]
    }
   ],
   "source": [
    "model  # prints the whole graph\n",
    "\n",
    "# Or just names\n",
    "print(model.named_steps.keys())\n",
    "\n",
    "# Params on each step\n",
    "print(model.named_steps['preprocess'].get_params())\n",
    "print(model.named_steps['clf'].get_params())\n"
   ]
  },
  {
   "cell_type": "markdown",
   "id": "18973101-7096-42bb-85d8-057c1af5d3a0",
   "metadata": {},
   "source": [
    "### L2"
   ]
  },
  {
   "cell_type": "code",
   "execution_count": null,
   "id": "66cac003-bffe-4fa3-a31d-a5163fbefe78",
   "metadata": {
    "execution": {
     "iopub.execute_input": "2025-09-16T03:40:15.423030Z",
     "iopub.status.busy": "2025-09-16T03:40:15.422279Z",
     "iopub.status.idle": "2025-09-16T03:40:19.857688Z",
     "shell.execute_reply": "2025-09-16T03:40:19.856688Z",
     "shell.execute_reply.started": "2025-09-16T03:40:15.422969Z"
    }
   },
   "outputs": [
    {
     "name": "stderr",
     "output_type": "stream",
     "text": [
      "/home/bsdsba2027/rvelasco/.local/lib/python3.12/site-packages/sklearn/base.py:380: InconsistentVersionWarning: Trying to unpickle estimator StandardScaler from version 1.7.1 when using version 1.6.1. This might lead to breaking code or invalid results. Use at your own risk. For more info please refer to:\n",
      "https://scikit-learn.org/stable/model_persistence.html#security-maintainability-limitations\n",
      "  warnings.warn(\n",
      "/home/bsdsba2027/rvelasco/.local/lib/python3.12/site-packages/sklearn/base.py:380: InconsistentVersionWarning: Trying to unpickle estimator OneHotEncoder from version 1.7.1 when using version 1.6.1. This might lead to breaking code or invalid results. Use at your own risk. For more info please refer to:\n",
      "https://scikit-learn.org/stable/model_persistence.html#security-maintainability-limitations\n",
      "  warnings.warn(\n",
      "/home/bsdsba2027/rvelasco/.local/lib/python3.12/site-packages/sklearn/base.py:380: InconsistentVersionWarning: Trying to unpickle estimator ColumnTransformer from version 1.7.1 when using version 1.6.1. This might lead to breaking code or invalid results. Use at your own risk. For more info please refer to:\n",
      "https://scikit-learn.org/stable/model_persistence.html#security-maintainability-limitations\n",
      "  warnings.warn(\n",
      "/home/bsdsba2027/rvelasco/.local/lib/python3.12/site-packages/sklearn/base.py:380: InconsistentVersionWarning: Trying to unpickle estimator LogisticRegression from version 1.7.1 when using version 1.6.1. This might lead to breaking code or invalid results. Use at your own risk. For more info please refer to:\n",
      "https://scikit-learn.org/stable/model_persistence.html#security-maintainability-limitations\n",
      "  warnings.warn(\n",
      "/home/bsdsba2027/rvelasco/.local/lib/python3.12/site-packages/sklearn/base.py:380: InconsistentVersionWarning: Trying to unpickle estimator Pipeline from version 1.7.1 when using version 1.6.1. This might lead to breaking code or invalid results. Use at your own risk. For more info please refer to:\n",
      "https://scikit-learn.org/stable/model_persistence.html#security-maintainability-limitations\n",
      "  warnings.warn(\n",
      "/home/bsdsba2027/rvelasco/.local/lib/python3.12/site-packages/sklearn/preprocessing/_encoders.py:246: UserWarning: Found unknown categories in columns [0, 1, 3] during transform. These unknown categories will be encoded as all zeros\n",
      "  warnings.warn(\n",
      "/home/bsdsba2027/rvelasco/.local/lib/python3.12/site-packages/sklearn/preprocessing/_encoders.py:246: UserWarning: Found unknown categories in columns [0, 1, 3] during transform. These unknown categories will be encoded as all zeros\n",
      "  warnings.warn(\n"
     ]
    },
    {
     "name": "stdout",
     "output_type": "stream",
     "text": [
      "C=1e-08    | Train=0.9286 | Val=1.0000 | Test=0.8571\n"
     ]
    },
    {
     "name": "stderr",
     "output_type": "stream",
     "text": [
      "/home/bsdsba2027/rvelasco/.local/lib/python3.12/site-packages/sklearn/preprocessing/_encoders.py:246: UserWarning: Found unknown categories in columns [0, 1, 3] during transform. These unknown categories will be encoded as all zeros\n",
      "  warnings.warn(\n",
      "/home/bsdsba2027/rvelasco/.local/lib/python3.12/site-packages/sklearn/preprocessing/_encoders.py:246: UserWarning: Found unknown categories in columns [0, 1, 3] during transform. These unknown categories will be encoded as all zeros\n",
      "  warnings.warn(\n"
     ]
    },
    {
     "name": "stdout",
     "output_type": "stream",
     "text": [
      "C=1e-05    | Train=0.9286 | Val=1.0000 | Test=0.8571\n"
     ]
    },
    {
     "name": "stderr",
     "output_type": "stream",
     "text": [
      "/home/bsdsba2027/rvelasco/.local/lib/python3.12/site-packages/sklearn/preprocessing/_encoders.py:246: UserWarning: Found unknown categories in columns [0, 1, 3] during transform. These unknown categories will be encoded as all zeros\n",
      "  warnings.warn(\n",
      "/home/bsdsba2027/rvelasco/.local/lib/python3.12/site-packages/sklearn/preprocessing/_encoders.py:246: UserWarning: Found unknown categories in columns [0, 1, 3] during transform. These unknown categories will be encoded as all zeros\n",
      "  warnings.warn(\n",
      "/home/bsdsba2027/rvelasco/.local/lib/python3.12/site-packages/sklearn/preprocessing/_encoders.py:246: UserWarning: Found unknown categories in columns [0, 1, 3] during transform. These unknown categories will be encoded as all zeros\n",
      "  warnings.warn(\n"
     ]
    },
    {
     "name": "stdout",
     "output_type": "stream",
     "text": [
      "C=0.001    | Train=0.9286 | Val=1.0000 | Test=0.8571\n",
      "C=0.1      | Train=0.9286 | Val=1.0000 | Test=0.8571\n"
     ]
    },
    {
     "name": "stderr",
     "output_type": "stream",
     "text": [
      "/home/bsdsba2027/rvelasco/.local/lib/python3.12/site-packages/sklearn/preprocessing/_encoders.py:246: UserWarning: Found unknown categories in columns [0, 1, 3] during transform. These unknown categories will be encoded as all zeros\n",
      "  warnings.warn(\n",
      "/home/bsdsba2027/rvelasco/.local/lib/python3.12/site-packages/sklearn/preprocessing/_encoders.py:246: UserWarning: Found unknown categories in columns [0, 1, 3] during transform. These unknown categories will be encoded as all zeros\n",
      "  warnings.warn(\n",
      "/home/bsdsba2027/rvelasco/.local/lib/python3.12/site-packages/sklearn/preprocessing/_encoders.py:246: UserWarning: Found unknown categories in columns [0, 1, 3] during transform. These unknown categories will be encoded as all zeros\n",
      "  warnings.warn(\n",
      "/home/bsdsba2027/rvelasco/.local/lib/python3.12/site-packages/sklearn/preprocessing/_encoders.py:246: UserWarning: Found unknown categories in columns [0, 1, 3] during transform. These unknown categories will be encoded as all zeros\n",
      "  warnings.warn(\n"
     ]
    },
    {
     "name": "stdout",
     "output_type": "stream",
     "text": [
      "C=0.2      | Train=0.9524 | Val=1.0000 | Test=0.8571\n",
      "C=0.4      | Train=1.0000 | Val=1.0000 | Test=0.8571\n"
     ]
    },
    {
     "name": "stderr",
     "output_type": "stream",
     "text": [
      "/home/bsdsba2027/rvelasco/.local/lib/python3.12/site-packages/sklearn/preprocessing/_encoders.py:246: UserWarning: Found unknown categories in columns [0, 1, 3] during transform. These unknown categories will be encoded as all zeros\n",
      "  warnings.warn(\n",
      "/home/bsdsba2027/rvelasco/.local/lib/python3.12/site-packages/sklearn/preprocessing/_encoders.py:246: UserWarning: Found unknown categories in columns [0, 1, 3] during transform. These unknown categories will be encoded as all zeros\n",
      "  warnings.warn(\n",
      "/home/bsdsba2027/rvelasco/.local/lib/python3.12/site-packages/sklearn/preprocessing/_encoders.py:246: UserWarning: Found unknown categories in columns [0, 1, 3] during transform. These unknown categories will be encoded as all zeros\n",
      "  warnings.warn(\n"
     ]
    },
    {
     "name": "stdout",
     "output_type": "stream",
     "text": [
      "C=0.75     | Train=1.0000 | Val=1.0000 | Test=0.8571\n",
      "C=1        | Train=1.0000 | Val=1.0000 | Test=0.8571\n"
     ]
    },
    {
     "name": "stderr",
     "output_type": "stream",
     "text": [
      "/home/bsdsba2027/rvelasco/.local/lib/python3.12/site-packages/sklearn/preprocessing/_encoders.py:246: UserWarning: Found unknown categories in columns [0, 1, 3] during transform. These unknown categories will be encoded as all zeros\n",
      "  warnings.warn(\n",
      "/home/bsdsba2027/rvelasco/.local/lib/python3.12/site-packages/sklearn/preprocessing/_encoders.py:246: UserWarning: Found unknown categories in columns [0, 1, 3] during transform. These unknown categories will be encoded as all zeros\n",
      "  warnings.warn(\n",
      "/home/bsdsba2027/rvelasco/.local/lib/python3.12/site-packages/sklearn/preprocessing/_encoders.py:246: UserWarning: Found unknown categories in columns [0, 1, 3] during transform. These unknown categories will be encoded as all zeros\n",
      "  warnings.warn(\n",
      "/home/bsdsba2027/rvelasco/.local/lib/python3.12/site-packages/sklearn/preprocessing/_encoders.py:246: UserWarning: Found unknown categories in columns [0, 1, 3] during transform. These unknown categories will be encoded as all zeros\n",
      "  warnings.warn(\n",
      "/home/bsdsba2027/rvelasco/.local/lib/python3.12/site-packages/sklearn/preprocessing/_encoders.py:246: UserWarning: Found unknown categories in columns [0, 1, 3] during transform. These unknown categories will be encoded as all zeros\n",
      "  warnings.warn(\n"
     ]
    },
    {
     "name": "stdout",
     "output_type": "stream",
     "text": [
      "C=1.5      | Train=1.0000 | Val=1.0000 | Test=0.8571\n"
     ]
    },
    {
     "name": "stderr",
     "output_type": "stream",
     "text": [
      "/home/bsdsba2027/rvelasco/.local/lib/python3.12/site-packages/sklearn/preprocessing/_encoders.py:246: UserWarning: Found unknown categories in columns [0, 1, 3] during transform. These unknown categories will be encoded as all zeros\n",
      "  warnings.warn(\n",
      "/home/bsdsba2027/rvelasco/.local/lib/python3.12/site-packages/sklearn/preprocessing/_encoders.py:246: UserWarning: Found unknown categories in columns [0, 1, 3] during transform. These unknown categories will be encoded as all zeros\n",
      "  warnings.warn(\n"
     ]
    },
    {
     "name": "stdout",
     "output_type": "stream",
     "text": [
      "C=3        | Train=1.0000 | Val=1.0000 | Test=0.8571\n"
     ]
    },
    {
     "name": "stderr",
     "output_type": "stream",
     "text": [
      "/home/bsdsba2027/rvelasco/.local/lib/python3.12/site-packages/sklearn/preprocessing/_encoders.py:246: UserWarning: Found unknown categories in columns [0, 1, 3] during transform. These unknown categories will be encoded as all zeros\n",
      "  warnings.warn(\n",
      "/home/bsdsba2027/rvelasco/.local/lib/python3.12/site-packages/sklearn/preprocessing/_encoders.py:246: UserWarning: Found unknown categories in columns [0, 1, 3] during transform. These unknown categories will be encoded as all zeros\n",
      "  warnings.warn(\n"
     ]
    },
    {
     "name": "stdout",
     "output_type": "stream",
     "text": [
      "C=5        | Train=1.0000 | Val=1.0000 | Test=0.8571\n"
     ]
    },
    {
     "name": "stderr",
     "output_type": "stream",
     "text": [
      "/home/bsdsba2027/rvelasco/.local/lib/python3.12/site-packages/sklearn/preprocessing/_encoders.py:246: UserWarning: Found unknown categories in columns [0, 1, 3] during transform. These unknown categories will be encoded as all zeros\n",
      "  warnings.warn(\n",
      "/home/bsdsba2027/rvelasco/.local/lib/python3.12/site-packages/sklearn/preprocessing/_encoders.py:246: UserWarning: Found unknown categories in columns [0, 1, 3] during transform. These unknown categories will be encoded as all zeros\n",
      "  warnings.warn(\n"
     ]
    },
    {
     "name": "stdout",
     "output_type": "stream",
     "text": [
      "C=10       | Train=1.0000 | Val=1.0000 | Test=0.8571\n"
     ]
    },
    {
     "name": "stderr",
     "output_type": "stream",
     "text": [
      "/home/bsdsba2027/rvelasco/.local/lib/python3.12/site-packages/sklearn/preprocessing/_encoders.py:246: UserWarning: Found unknown categories in columns [0, 1, 3] during transform. These unknown categories will be encoded as all zeros\n",
      "  warnings.warn(\n",
      "/home/bsdsba2027/rvelasco/.local/lib/python3.12/site-packages/sklearn/preprocessing/_encoders.py:246: UserWarning: Found unknown categories in columns [0, 1, 3] during transform. These unknown categories will be encoded as all zeros\n",
      "  warnings.warn(\n"
     ]
    },
    {
     "name": "stdout",
     "output_type": "stream",
     "text": [
      "C=15       | Train=1.0000 | Val=1.0000 | Test=0.8571\n"
     ]
    },
    {
     "name": "stderr",
     "output_type": "stream",
     "text": [
      "/home/bsdsba2027/rvelasco/.local/lib/python3.12/site-packages/sklearn/preprocessing/_encoders.py:246: UserWarning: Found unknown categories in columns [0, 1, 3] during transform. These unknown categories will be encoded as all zeros\n",
      "  warnings.warn(\n",
      "/home/bsdsba2027/rvelasco/.local/lib/python3.12/site-packages/sklearn/preprocessing/_encoders.py:246: UserWarning: Found unknown categories in columns [0, 1, 3] during transform. These unknown categories will be encoded as all zeros\n",
      "  warnings.warn(\n"
     ]
    },
    {
     "name": "stdout",
     "output_type": "stream",
     "text": [
      "C=20       | Train=1.0000 | Val=1.0000 | Test=0.8571\n"
     ]
    },
    {
     "name": "stderr",
     "output_type": "stream",
     "text": [
      "/home/bsdsba2027/rvelasco/.local/lib/python3.12/site-packages/sklearn/preprocessing/_encoders.py:246: UserWarning: Found unknown categories in columns [0, 1, 3] during transform. These unknown categories will be encoded as all zeros\n",
      "  warnings.warn(\n",
      "/home/bsdsba2027/rvelasco/.local/lib/python3.12/site-packages/sklearn/preprocessing/_encoders.py:246: UserWarning: Found unknown categories in columns [0, 1, 3] during transform. These unknown categories will be encoded as all zeros\n",
      "  warnings.warn(\n"
     ]
    },
    {
     "name": "stdout",
     "output_type": "stream",
     "text": [
      "C=100      | Train=1.0000 | Val=1.0000 | Test=0.8571\n"
     ]
    },
    {
     "name": "stderr",
     "output_type": "stream",
     "text": [
      "/home/bsdsba2027/rvelasco/.local/lib/python3.12/site-packages/sklearn/preprocessing/_encoders.py:246: UserWarning: Found unknown categories in columns [0, 1, 3] during transform. These unknown categories will be encoded as all zeros\n",
      "  warnings.warn(\n",
      "/home/bsdsba2027/rvelasco/.local/lib/python3.12/site-packages/sklearn/preprocessing/_encoders.py:246: UserWarning: Found unknown categories in columns [0, 1, 3] during transform. These unknown categories will be encoded as all zeros\n",
      "  warnings.warn(\n",
      "/home/bsdsba2027/rvelasco/.local/lib/python3.12/site-packages/sklearn/preprocessing/_encoders.py:246: UserWarning: Found unknown categories in columns [0, 1, 3] during transform. These unknown categories will be encoded as all zeros\n",
      "  warnings.warn(\n"
     ]
    },
    {
     "name": "stdout",
     "output_type": "stream",
     "text": [
      "C=300      | Train=1.0000 | Val=0.9286 | Test=0.8571\n",
      "C=10000    | Train=1.0000 | Val=0.9286 | Test=0.8571\n"
     ]
    },
    {
     "data": {
      "image/png": "[encoded data removed]",
      "text/plain": [
       "<Figure size 1000x600 with 1 Axes>"
      ]
     },
     "metadata": {},
     "output_type": "display_data"
    }
   ],
   "source": [
    "# -----------------------------\n",
    "# Load pipeline (preprocess + LogisticRegression)\n",
    "# -----------------------------\n",
    "pipe = load(\"model.joblib\")\n",
    "\n",
    "df = pd.read_csv(\"historical.csv\")\n",
    "df['apgar_score'] = df['apgar_score'].ffill()\n",
    "\n",
    "target_col = \"risk_level\"\n",
    "X = df.drop(columns=[target_col])\n",
    "y = df[target_col]\n",
    "\n",
    "# Patch deprecated param in ColumnTransformer\n",
    "ct = pipe.named_steps['preprocess']\n",
    "ct.set_params(force_int_remainder_cols=False)\n",
    "pipe.named_steps['preprocess'] = ct\n",
    "\n",
    "# -----------------------------\n",
    "# Outer split: hold-out test set\n",
    "# -----------------------------\n",
    "X_train_full, X_test, y_train_full, y_test = train_test_split(\n",
    "    X, y, test_size=0.20, random_state=42\n",
    ")\n",
    "\n",
    "# Inner split: train vs validation from outer training\n",
    "X_train, X_val, y_train, y_val = train_test_split(\n",
    "    X_train_full, y_train_full, test_size=0.25, random_state=42\n",
    ")\n",
    "# (Resulting split = 60% train, 20% val, 20% test)\n",
    "\n",
    "# -----------------------------\n",
    "# Hyperparameter values\n",
    "# -----------------------------\n",
    "C_values = [1e-8, 1e-5, 1e-3, 0.1, 0.2, 0.4, 0.75, 1, 1.5, 3, 5, 10, 15, 20, 100, 300, 10000]\n",
    "\n",
    "train_accs = []\n",
    "val_accs = []\n",
    "test_accs = []\n",
    "\n",
    "# -----------------------------\n",
    "# Loop through C values\n",
    "# -----------------------------\n",
    "for c_val in C_values:\n",
    "    # Train on inner train, score on train + val\n",
    "    model_inner = clone(pipe).set_params(clf__C=c_val, clf__max_iter=2000)\n",
    "    model_inner.fit(X_train, y_train)\n",
    "\n",
    "    train_acc = model_inner.score(X_train, y_train)\n",
    "    val_acc = model_inner.score(X_val, y_val)\n",
    "\n",
    "    # Retrain on full outer training set, score on test\n",
    "    model_full = clone(pipe).set_params(clf__C=c_val, clf__max_iter=2000)\n",
    "    model_full.fit(X_train_full, y_train_full)\n",
    "    test_acc = model_full.score(X_test, y_test)\n",
    "\n",
    "    train_accs.append(train_acc)\n",
    "    val_accs.append(val_acc)\n",
    "    test_accs.append(test_acc)\n",
    "\n",
    "    print(f\"C={c_val:<8} | Train={train_acc:.4f} | Val={val_acc:.4f} | Test={test_acc:.4f}\")\n",
    "\n",
    "# -----------------------------\n",
    "# Plot results\n",
    "# -----------------------------\n",
    "plt.figure(figsize=(10, 6))\n",
    "plt.plot(C_values, train_accs, marker='o', label=\"Train Accuracy\")\n",
    "plt.plot(C_values, val_accs, marker='s', label=\"Validation Accuracy\")\n",
    "plt.plot(C_values, test_accs, marker='^', label=\"Test Accuracy\")\n",
    "plt.xscale('log')\n",
    "plt.xlabel(\"C (log scale)\")\n",
    "plt.ylabel(\"Accuracy\")\n",
    "plt.title(\"3-Way Split: Train, Validation, Test Accuracy across C values\")\n",
    "plt.legend()\n",
    "plt.grid(True)\n",
    "plt.show()\n"
   ]
  },
  {
   "cell_type": "code",
   "execution_count": 27,
   "id": "c8ce9c9b-bbdd-444d-bf1f-1998520ae2ed",
   "metadata": {
    "execution": {
     "iopub.execute_input": "2025-09-16T03:36:00.310018Z",
     "iopub.status.busy": "2025-09-16T03:36:00.309250Z",
     "iopub.status.idle": "2025-09-16T03:36:00.570442Z",
     "shell.execute_reply": "2025-09-16T03:36:00.568933Z",
     "shell.execute_reply.started": "2025-09-16T03:36:00.309953Z"
    }
   },
   "outputs": [
    {
     "data": {
      "text/html": [
       "<style>#sk-container-id-3 {\n",
       "  /* Definition of color scheme common for light and dark mode */\n",
       "  --sklearn-color-text: #000;\n",
       "  --sklearn-color-text-muted: #666;\n",
       "  --sklearn-color-line: gray;\n",
       "  /* Definition of color scheme for unfitted estimators */\n",
       "  --sklearn-color-unfitted-level-0: #fff5e6;\n",
       "  --sklearn-color-unfitted-level-1: #f6e4d2;\n",
       "  --sklearn-color-unfitted-level-2: #ffe0b3;\n",
       "  --sklearn-color-unfitted-level-3: chocolate;\n",
       "  /* Definition of color scheme for fitted estimators */\n",
       "  --sklearn-color-fitted-level-0: #f0f8ff;\n",
       "  --sklearn-color-fitted-level-1: #d4ebff;\n",
       "  --sklearn-color-fitted-level-2: #b3dbfd;\n",
       "  --sklearn-color-fitted-level-3: cornflowerblue;\n",
       "\n",
       "  /* Specific color for light theme */\n",
       "  --sklearn-color-text-on-default-background: var(--sg-text-color, var(--theme-code-foreground, var(--jp-content-font-color1, black)));\n",
       "  --sklearn-color-background: var(--sg-background-color, var(--theme-background, var(--jp-layout-color0, white)));\n",
       "  --sklearn-color-border-box: var(--sg-text-color, var(--theme-code-foreground, var(--jp-content-font-color1, black)));\n",
       "  --sklearn-color-icon: #696969;\n",
       "\n",
       "  @media (prefers-color-scheme: dark) {\n",
       "    /* Redefinition of color scheme for dark theme */\n",
       "    --sklearn-color-text-on-default-background: var(--sg-text-color, var(--theme-code-foreground, var(--jp-content-font-color1, white)));\n",
       "    --sklearn-color-background: var(--sg-background-color, var(--theme-background, var(--jp-layout-color0, #111)));\n",
       "    --sklearn-color-border-box: var(--sg-text-color, var(--theme-code-foreground, var(--jp-content-font-color1, white)));\n",
       "    --sklearn-color-icon: #878787;\n",
       "  }\n",
       "}\n",
       "\n",
       "#sk-container-id-3 {\n",
       "  color: var(--sklearn-color-text);\n",
       "}\n",
       "\n",
       "#sk-container-id-3 pre {\n",
       "  padding: 0;\n",
       "}\n",
       "\n",
       "#sk-container-id-3 input.sk-hidden--visually {\n",
       "  border: 0;\n",
       "  clip: rect(1px 1px 1px 1px);\n",
       "  clip: rect(1px, 1px, 1px, 1px);\n",
       "  height: 1px;\n",
       "  margin: -1px;\n",
       "  overflow: hidden;\n",
       "  padding: 0;\n",
       "  position: absolute;\n",
       "  width: 1px;\n",
       "}\n",
       "\n",
       "#sk-container-id-3 div.sk-dashed-wrapped {\n",
       "  border: 1px dashed var(--sklearn-color-line);\n",
       "  margin: 0 0.4em 0.5em 0.4em;\n",
       "  box-sizing: border-box;\n",
       "  padding-bottom: 0.4em;\n",
       "  background-color: var(--sklearn-color-background);\n",
       "}\n",
       "\n",
       "#sk-container-id-3 div.sk-container {\n",
       "  /* jupyter's `normalize.less` sets `[hidden] { display: none; }`\n",
       "     but bootstrap.min.css set `[hidden] { display: none !important; }`\n",
       "     so we also need the `!important` here to be able to override the\n",
       "     default hidden behavior on the sphinx rendered scikit-learn.org.\n",
       "     See: https://github.com/scikit-learn/scikit-learn/issues/21755 */\n",
       "  display: inline-block !important;\n",
       "  position: relative;\n",
       "}\n",
       "\n",
       "#sk-container-id-3 div.sk-text-repr-fallback {\n",
       "  display: none;\n",
       "}\n",
       "\n",
       "div.sk-parallel-item,\n",
       "div.sk-serial,\n",
       "div.sk-item {\n",
       "  /* draw centered vertical line to link estimators */\n",
       "  background-image: linear-gradient(var(--sklearn-color-text-on-default-background), var(--sklearn-color-text-on-default-background));\n",
       "  background-size: 2px 100%;\n",
       "  background-repeat: no-repeat;\n",
       "  background-position: center center;\n",
       "}\n",
       "\n",
       "/* Parallel-specific style estimator block */\n",
       "\n",
       "#sk-container-id-3 div.sk-parallel-item::after {\n",
       "  content: \"\";\n",
       "  width: 100%;\n",
       "  border-bottom: 2px solid var(--sklearn-color-text-on-default-background);\n",
       "  flex-grow: 1;\n",
       "}\n",
       "\n",
       "#sk-container-id-3 div.sk-parallel {\n",
       "  display: flex;\n",
       "  align-items: stretch;\n",
       "  justify-content: center;\n",
       "  background-color: var(--sklearn-color-background);\n",
       "  position: relative;\n",
       "}\n",
       "\n",
       "#sk-container-id-3 div.sk-parallel-item {\n",
       "  display: flex;\n",
       "  flex-direction: column;\n",
       "}\n",
       "\n",
       "#sk-container-id-3 div.sk-parallel-item:first-child::after {\n",
       "  align-self: flex-end;\n",
       "  width: 50%;\n",
       "}\n",
       "\n",
       "#sk-container-id-3 div.sk-parallel-item:last-child::after {\n",
       "  align-self: flex-start;\n",
       "  width: 50%;\n",
       "}\n",
       "\n",
       "#sk-container-id-3 div.sk-parallel-item:only-child::after {\n",
       "  width: 0;\n",
       "}\n",
       "\n",
       "/* Serial-specific style estimator block */\n",
       "\n",
       "#sk-container-id-3 div.sk-serial {\n",
       "  display: flex;\n",
       "  flex-direction: column;\n",
       "  align-items: center;\n",
       "  background-color: var(--sklearn-color-background);\n",
       "  padding-right: 1em;\n",
       "  padding-left: 1em;\n",
       "}\n",
       "\n",
       "\n",
       "/* Toggleable style: style used for estimator/Pipeline/ColumnTransformer box that is\n",
       "clickable and can be expanded/collapsed.\n",
       "- Pipeline and ColumnTransformer use this feature and define the default style\n",
       "- Estimators will overwrite some part of the style using the `sk-estimator` class\n",
       "*/\n",
       "\n",
       "/* Pipeline and ColumnTransformer style (default) */\n",
       "\n",
       "#sk-container-id-3 div.sk-toggleable {\n",
       "  /* Default theme specific background. It is overwritten whether we have a\n",
       "  specific estimator or a Pipeline/ColumnTransformer */\n",
       "  background-color: var(--sklearn-color-background);\n",
       "}\n",
       "\n",
       "/* Toggleable label */\n",
       "#sk-container-id-3 label.sk-toggleable__label {\n",
       "  cursor: pointer;\n",
       "  display: flex;\n",
       "  width: 100%;\n",
       "  margin-bottom: 0;\n",
       "  padding: 0.5em;\n",
       "  box-sizing: border-box;\n",
       "  text-align: center;\n",
       "  align-items: start;\n",
       "  justify-content: space-between;\n",
       "  gap: 0.5em;\n",
       "}\n",
       "\n",
       "#sk-container-id-3 label.sk-toggleable__label .caption {\n",
       "  font-size: 0.6rem;\n",
       "  font-weight: lighter;\n",
       "  color: var(--sklearn-color-text-muted);\n",
       "}\n",
       "\n",
       "#sk-container-id-3 label.sk-toggleable__label-arrow:before {\n",
       "  /* Arrow on the left of the label */\n",
       "  content: \"▸\";\n",
       "  float: left;\n",
       "  margin-right: 0.25em;\n",
       "  color: var(--sklearn-color-icon);\n",
       "}\n",
       "\n",
       "#sk-container-id-3 label.sk-toggleable__label-arrow:hover:before {\n",
       "  color: var(--sklearn-color-text);\n",
       "}\n",
       "\n",
       "/* Toggleable content - dropdown */\n",
       "\n",
       "#sk-container-id-3 div.sk-toggleable__content {\n",
       "  max-height: 0;\n",
       "  max-width: 0;\n",
       "  overflow: hidden;\n",
       "  text-align: left;\n",
       "  /* unfitted */\n",
       "  background-color: var(--sklearn-color-unfitted-level-0);\n",
       "}\n",
       "\n",
       "#sk-container-id-3 div.sk-toggleable__content.fitted {\n",
       "  /* fitted */\n",
       "  background-color: var(--sklearn-color-fitted-level-0);\n",
       "}\n",
       "\n",
       "#sk-container-id-3 div.sk-toggleable__content pre {\n",
       "  margin: 0.2em;\n",
       "  border-radius: 0.25em;\n",
       "  color: var(--sklearn-color-text);\n",
       "  /* unfitted */\n",
       "  background-color: var(--sklearn-color-unfitted-level-0);\n",
       "}\n",
       "\n",
       "#sk-container-id-3 div.sk-toggleable__content.fitted pre {\n",
       "  /* unfitted */\n",
       "  background-color: var(--sklearn-color-fitted-level-0);\n",
       "}\n",
       "\n",
       "#sk-container-id-3 input.sk-toggleable__control:checked~div.sk-toggleable__content {\n",
       "  /* Expand drop-down */\n",
       "  max-height: 200px;\n",
       "  max-width: 100%;\n",
       "  overflow: auto;\n",
       "}\n",
       "\n",
       "#sk-container-id-3 input.sk-toggleable__control:checked~label.sk-toggleable__label-arrow:before {\n",
       "  content: \"▾\";\n",
       "}\n",
       "\n",
       "/* Pipeline/ColumnTransformer-specific style */\n",
       "\n",
       "#sk-container-id-3 div.sk-label input.sk-toggleable__control:checked~label.sk-toggleable__label {\n",
       "  color: var(--sklearn-color-text);\n",
       "  background-color: var(--sklearn-color-unfitted-level-2);\n",
       "}\n",
       "\n",
       "#sk-container-id-3 div.sk-label.fitted input.sk-toggleable__control:checked~label.sk-toggleable__label {\n",
       "  background-color: var(--sklearn-color-fitted-level-2);\n",
       "}\n",
       "\n",
       "/* Estimator-specific style */\n",
       "\n",
       "/* Colorize estimator box */\n",
       "#sk-container-id-3 div.sk-estimator input.sk-toggleable__control:checked~label.sk-toggleable__label {\n",
       "  /* unfitted */\n",
       "  background-color: var(--sklearn-color-unfitted-level-2);\n",
       "}\n",
       "\n",
       "#sk-container-id-3 div.sk-estimator.fitted input.sk-toggleable__control:checked~label.sk-toggleable__label {\n",
       "  /* fitted */\n",
       "  background-color: var(--sklearn-color-fitted-level-2);\n",
       "}\n",
       "\n",
       "#sk-container-id-3 div.sk-label label.sk-toggleable__label,\n",
       "#sk-container-id-3 div.sk-label label {\n",
       "  /* The background is the default theme color */\n",
       "  color: var(--sklearn-color-text-on-default-background);\n",
       "}\n",
       "\n",
       "/* On hover, darken the color of the background */\n",
       "#sk-container-id-3 div.sk-label:hover label.sk-toggleable__label {\n",
       "  color: var(--sklearn-color-text);\n",
       "  background-color: var(--sklearn-color-unfitted-level-2);\n",
       "}\n",
       "\n",
       "/* Label box, darken color on hover, fitted */\n",
       "#sk-container-id-3 div.sk-label.fitted:hover label.sk-toggleable__label.fitted {\n",
       "  color: var(--sklearn-color-text);\n",
       "  background-color: var(--sklearn-color-fitted-level-2);\n",
       "}\n",
       "\n",
       "/* Estimator label */\n",
       "\n",
       "#sk-container-id-3 div.sk-label label {\n",
       "  font-family: monospace;\n",
       "  font-weight: bold;\n",
       "  display: inline-block;\n",
       "  line-height: 1.2em;\n",
       "}\n",
       "\n",
       "#sk-container-id-3 div.sk-label-container {\n",
       "  text-align: center;\n",
       "}\n",
       "\n",
       "/* Estimator-specific */\n",
       "#sk-container-id-3 div.sk-estimator {\n",
       "  font-family: monospace;\n",
       "  border: 1px dotted var(--sklearn-color-border-box);\n",
       "  border-radius: 0.25em;\n",
       "  box-sizing: border-box;\n",
       "  margin-bottom: 0.5em;\n",
       "  /* unfitted */\n",
       "  background-color: var(--sklearn-color-unfitted-level-0);\n",
       "}\n",
       "\n",
       "#sk-container-id-3 div.sk-estimator.fitted {\n",
       "  /* fitted */\n",
       "  background-color: var(--sklearn-color-fitted-level-0);\n",
       "}\n",
       "\n",
       "/* on hover */\n",
       "#sk-container-id-3 div.sk-estimator:hover {\n",
       "  /* unfitted */\n",
       "  background-color: var(--sklearn-color-unfitted-level-2);\n",
       "}\n",
       "\n",
       "#sk-container-id-3 div.sk-estimator.fitted:hover {\n",
       "  /* fitted */\n",
       "  background-color: var(--sklearn-color-fitted-level-2);\n",
       "}\n",
       "\n",
       "/* Specification for estimator info (e.g. \"i\" and \"?\") */\n",
       "\n",
       "/* Common style for \"i\" and \"?\" */\n",
       "\n",
       ".sk-estimator-doc-link,\n",
       "a:link.sk-estimator-doc-link,\n",
       "a:visited.sk-estimator-doc-link {\n",
       "  float: right;\n",
       "  font-size: smaller;\n",
       "  line-height: 1em;\n",
       "  font-family: monospace;\n",
       "  background-color: var(--sklearn-color-background);\n",
       "  border-radius: 1em;\n",
       "  height: 1em;\n",
       "  width: 1em;\n",
       "  text-decoration: none !important;\n",
       "  margin-left: 0.5em;\n",
       "  text-align: center;\n",
       "  /* unfitted */\n",
       "  border: var(--sklearn-color-unfitted-level-1) 1pt solid;\n",
       "  color: var(--sklearn-color-unfitted-level-1);\n",
       "}\n",
       "\n",
       ".sk-estimator-doc-link.fitted,\n",
       "a:link.sk-estimator-doc-link.fitted,\n",
       "a:visited.sk-estimator-doc-link.fitted {\n",
       "  /* fitted */\n",
       "  border: var(--sklearn-color-fitted-level-1) 1pt solid;\n",
       "  color: var(--sklearn-color-fitted-level-1);\n",
       "}\n",
       "\n",
       "/* On hover */\n",
       "div.sk-estimator:hover .sk-estimator-doc-link:hover,\n",
       ".sk-estimator-doc-link:hover,\n",
       "div.sk-label-container:hover .sk-estimator-doc-link:hover,\n",
       ".sk-estimator-doc-link:hover {\n",
       "  /* unfitted */\n",
       "  background-color: var(--sklearn-color-unfitted-level-3);\n",
       "  color: var(--sklearn-color-background);\n",
       "  text-decoration: none;\n",
       "}\n",
       "\n",
       "div.sk-estimator.fitted:hover .sk-estimator-doc-link.fitted:hover,\n",
       ".sk-estimator-doc-link.fitted:hover,\n",
       "div.sk-label-container:hover .sk-estimator-doc-link.fitted:hover,\n",
       ".sk-estimator-doc-link.fitted:hover {\n",
       "  /* fitted */\n",
       "  background-color: var(--sklearn-color-fitted-level-3);\n",
       "  color: var(--sklearn-color-background);\n",
       "  text-decoration: none;\n",
       "}\n",
       "\n",
       "/* Span, style for the box shown on hovering the info icon */\n",
       ".sk-estimator-doc-link span {\n",
       "  display: none;\n",
       "  z-index: 9999;\n",
       "  position: relative;\n",
       "  font-weight: normal;\n",
       "  right: .2ex;\n",
       "  padding: .5ex;\n",
       "  margin: .5ex;\n",
       "  width: min-content;\n",
       "  min-width: 20ex;\n",
       "  max-width: 50ex;\n",
       "  color: var(--sklearn-color-text);\n",
       "  box-shadow: 2pt 2pt 4pt #999;\n",
       "  /* unfitted */\n",
       "  background: var(--sklearn-color-unfitted-level-0);\n",
       "  border: .5pt solid var(--sklearn-color-unfitted-level-3);\n",
       "}\n",
       "\n",
       ".sk-estimator-doc-link.fitted span {\n",
       "  /* fitted */\n",
       "  background: var(--sklearn-color-fitted-level-0);\n",
       "  border: var(--sklearn-color-fitted-level-3);\n",
       "}\n",
       "\n",
       ".sk-estimator-doc-link:hover span {\n",
       "  display: block;\n",
       "}\n",
       "\n",
       "/* \"?\"-specific style due to the `<a>` HTML tag */\n",
       "\n",
       "#sk-container-id-3 a.estimator_doc_link {\n",
       "  float: right;\n",
       "  font-size: 1rem;\n",
       "  line-height: 1em;\n",
       "  font-family: monospace;\n",
       "  background-color: var(--sklearn-color-background);\n",
       "  border-radius: 1rem;\n",
       "  height: 1rem;\n",
       "  width: 1rem;\n",
       "  text-decoration: none;\n",
       "  /* unfitted */\n",
       "  color: var(--sklearn-color-unfitted-level-1);\n",
       "  border: var(--sklearn-color-unfitted-level-1) 1pt solid;\n",
       "}\n",
       "\n",
       "#sk-container-id-3 a.estimator_doc_link.fitted {\n",
       "  /* fitted */\n",
       "  border: var(--sklearn-color-fitted-level-1) 1pt solid;\n",
       "  color: var(--sklearn-color-fitted-level-1);\n",
       "}\n",
       "\n",
       "/* On hover */\n",
       "#sk-container-id-3 a.estimator_doc_link:hover {\n",
       "  /* unfitted */\n",
       "  background-color: var(--sklearn-color-unfitted-level-3);\n",
       "  color: var(--sklearn-color-background);\n",
       "  text-decoration: none;\n",
       "}\n",
       "\n",
       "#sk-container-id-3 a.estimator_doc_link.fitted:hover {\n",
       "  /* fitted */\n",
       "  background-color: var(--sklearn-color-fitted-level-3);\n",
       "}\n",
       "</style><div id=\"sk-container-id-3\" class=\"sk-top-container\"><div class=\"sk-text-repr-fallback\"><pre>Pipeline(steps=[(&#x27;preprocess&#x27;,\n",
       "                 ColumnTransformer(force_int_remainder_cols=False,\n",
       "                                   transformers=[(&#x27;num&#x27;, StandardScaler(),\n",
       "                                                  &lt;sklearn.compose._column_transformer.make_column_selector object at 0x759615f2f860&gt;),\n",
       "                                                 (&#x27;cat&#x27;,\n",
       "                                                  OneHotEncoder(drop=&#x27;if_binary&#x27;,\n",
       "                                                                handle_unknown=&#x27;ignore&#x27;),\n",
       "                                                  &lt;sklearn.compose._column_transformer.make_column_selector object at 0x759615f2f0b0&gt;)])),\n",
       "                (&#x27;clf&#x27;,\n",
       "                 LogisticRegression(C=1, max_iter=2000, random_state=0))])</pre><b>In a Jupyter environment, please rerun this cell to show the HTML representation or trust the notebook. <br />On GitHub, the HTML representation is unable to render, please try loading this page with nbviewer.org.</b></div><div class=\"sk-container\" hidden><div class=\"sk-item sk-dashed-wrapped\"><div class=\"sk-label-container\"><div class=\"sk-label fitted sk-toggleable\"><input class=\"sk-toggleable__control sk-hidden--visually\" id=\"sk-estimator-id-15\" type=\"checkbox\" ><label for=\"sk-estimator-id-15\" class=\"sk-toggleable__label fitted sk-toggleable__label-arrow\"><div><div>Pipeline</div></div><div><a class=\"sk-estimator-doc-link fitted\" rel=\"noreferrer\" target=\"_blank\" href=\"https://scikit-learn.org/1.6/modules/generated/sklearn.pipeline.Pipeline.html\">?<span>Documentation for Pipeline</span></a><span class=\"sk-estimator-doc-link fitted\">i<span>Fitted</span></span></div></label><div class=\"sk-toggleable__content fitted\"><pre>Pipeline(steps=[(&#x27;preprocess&#x27;,\n",
       "                 ColumnTransformer(force_int_remainder_cols=False,\n",
       "                                   transformers=[(&#x27;num&#x27;, StandardScaler(),\n",
       "                                                  &lt;sklearn.compose._column_transformer.make_column_selector object at 0x759615f2f860&gt;),\n",
       "                                                 (&#x27;cat&#x27;,\n",
       "                                                  OneHotEncoder(drop=&#x27;if_binary&#x27;,\n",
       "                                                                handle_unknown=&#x27;ignore&#x27;),\n",
       "                                                  &lt;sklearn.compose._column_transformer.make_column_selector object at 0x759615f2f0b0&gt;)])),\n",
       "                (&#x27;clf&#x27;,\n",
       "                 LogisticRegression(C=1, max_iter=2000, random_state=0))])</pre></div> </div></div><div class=\"sk-serial\"><div class=\"sk-item sk-dashed-wrapped\"><div class=\"sk-label-container\"><div class=\"sk-label fitted sk-toggleable\"><input class=\"sk-toggleable__control sk-hidden--visually\" id=\"sk-estimator-id-16\" type=\"checkbox\" ><label for=\"sk-estimator-id-16\" class=\"sk-toggleable__label fitted sk-toggleable__label-arrow\"><div><div>preprocess: ColumnTransformer</div></div><div><a class=\"sk-estimator-doc-link fitted\" rel=\"noreferrer\" target=\"_blank\" href=\"https://scikit-learn.org/1.6/modules/generated/sklearn.compose.ColumnTransformer.html\">?<span>Documentation for preprocess: ColumnTransformer</span></a></div></label><div class=\"sk-toggleable__content fitted\"><pre>ColumnTransformer(force_int_remainder_cols=False,\n",
       "                  transformers=[(&#x27;num&#x27;, StandardScaler(),\n",
       "                                 &lt;sklearn.compose._column_transformer.make_column_selector object at 0x759615f2f860&gt;),\n",
       "                                (&#x27;cat&#x27;,\n",
       "                                 OneHotEncoder(drop=&#x27;if_binary&#x27;,\n",
       "                                               handle_unknown=&#x27;ignore&#x27;),\n",
       "                                 &lt;sklearn.compose._column_transformer.make_column_selector object at 0x759615f2f0b0&gt;)])</pre></div> </div></div><div class=\"sk-parallel\"><div class=\"sk-parallel-item\"><div class=\"sk-item\"><div class=\"sk-label-container\"><div class=\"sk-label fitted sk-toggleable\"><input class=\"sk-toggleable__control sk-hidden--visually\" id=\"sk-estimator-id-17\" type=\"checkbox\" ><label for=\"sk-estimator-id-17\" class=\"sk-toggleable__label fitted sk-toggleable__label-arrow\"><div><div>num</div></div></label><div class=\"sk-toggleable__content fitted\"><pre>&lt;sklearn.compose._column_transformer.make_column_selector object at 0x759615f2f860&gt;</pre></div> </div></div><div class=\"sk-serial\"><div class=\"sk-item\"><div class=\"sk-estimator fitted sk-toggleable\"><input class=\"sk-toggleable__control sk-hidden--visually\" id=\"sk-estimator-id-18\" type=\"checkbox\" ><label for=\"sk-estimator-id-18\" class=\"sk-toggleable__label fitted sk-toggleable__label-arrow\"><div><div>StandardScaler</div></div><div><a class=\"sk-estimator-doc-link fitted\" rel=\"noreferrer\" target=\"_blank\" href=\"https://scikit-learn.org/1.6/modules/generated/sklearn.preprocessing.StandardScaler.html\">?<span>Documentation for StandardScaler</span></a></div></label><div class=\"sk-toggleable__content fitted\"><pre>StandardScaler()</pre></div> </div></div></div></div></div><div class=\"sk-parallel-item\"><div class=\"sk-item\"><div class=\"sk-label-container\"><div class=\"sk-label fitted sk-toggleable\"><input class=\"sk-toggleable__control sk-hidden--visually\" id=\"sk-estimator-id-19\" type=\"checkbox\" ><label for=\"sk-estimator-id-19\" class=\"sk-toggleable__label fitted sk-toggleable__label-arrow\"><div><div>cat</div></div></label><div class=\"sk-toggleable__content fitted\"><pre>&lt;sklearn.compose._column_transformer.make_column_selector object at 0x759615f2f0b0&gt;</pre></div> </div></div><div class=\"sk-serial\"><div class=\"sk-item\"><div class=\"sk-estimator fitted sk-toggleable\"><input class=\"sk-toggleable__control sk-hidden--visually\" id=\"sk-estimator-id-20\" type=\"checkbox\" ><label for=\"sk-estimator-id-20\" class=\"sk-toggleable__label fitted sk-toggleable__label-arrow\"><div><div>OneHotEncoder</div></div><div><a class=\"sk-estimator-doc-link fitted\" rel=\"noreferrer\" target=\"_blank\" href=\"https://scikit-learn.org/1.6/modules/generated/sklearn.preprocessing.OneHotEncoder.html\">?<span>Documentation for OneHotEncoder</span></a></div></label><div class=\"sk-toggleable__content fitted\"><pre>OneHotEncoder(drop=&#x27;if_binary&#x27;, handle_unknown=&#x27;ignore&#x27;)</pre></div> </div></div></div></div></div></div></div><div class=\"sk-item\"><div class=\"sk-estimator fitted sk-toggleable\"><input class=\"sk-toggleable__control sk-hidden--visually\" id=\"sk-estimator-id-21\" type=\"checkbox\" ><label for=\"sk-estimator-id-21\" class=\"sk-toggleable__label fitted sk-toggleable__label-arrow\"><div><div>LogisticRegression</div></div><div><a class=\"sk-estimator-doc-link fitted\" rel=\"noreferrer\" target=\"_blank\" href=\"https://scikit-learn.org/1.6/modules/generated/sklearn.linear_model.LogisticRegression.html\">?<span>Documentation for LogisticRegression</span></a></div></label><div class=\"sk-toggleable__content fitted\"><pre>LogisticRegression(C=1, max_iter=2000, random_state=0)</pre></div> </div></div></div></div></div></div>"
      ],
      "text/plain": [
       "Pipeline(steps=[('preprocess',\n",
       "                 ColumnTransformer(force_int_remainder_cols=False,\n",
       "                                   transformers=[('num', StandardScaler(),\n",
       "                                                  <sklearn.compose._column_transformer.make_column_selector object at 0x759615f2f860>),\n",
       "                                                 ('cat',\n",
       "                                                  OneHotEncoder(drop='if_binary',\n",
       "                                                                handle_unknown='ignore'),\n",
       "                                                  <sklearn.compose._column_transformer.make_column_selector object at 0x759615f2f0b0>)])),\n",
       "                ('clf',\n",
       "                 LogisticRegression(C=1, max_iter=2000, random_state=0))])"
      ]
     },
     "execution_count": 27,
     "metadata": {},
     "output_type": "execute_result"
    }
   ],
   "source": [
    "model_bestC = clone(pipe).set_params(clf__C=1, clf__max_iter=2000)\n",
    "model_bestC.fit(X_train_full, y_train_full)"
   ]
  },
  {
   "cell_type": "code",
   "execution_count": 28,
   "id": "054147ec-831a-4c20-877a-0a6639fab709",
   "metadata": {
    "execution": {
     "iopub.execute_input": "2025-09-16T03:36:01.641331Z",
     "iopub.status.busy": "2025-09-16T03:36:01.640586Z",
     "iopub.status.idle": "2025-09-16T03:36:01.655837Z",
     "shell.execute_reply": "2025-09-16T03:36:01.653960Z",
     "shell.execute_reply.started": "2025-09-16T03:36:01.641270Z"
    }
   },
   "outputs": [
    {
     "data": {
      "text/plain": [
       "baby_id                              B001\n",
       "name                                 Sara\n",
       "gender                             Female\n",
       "gestational_age_weeks                40.2\n",
       "birth_weight_kg                       3.3\n",
       "birth_length_cm                      50.0\n",
       "birth_head_circumference_cm          31.9\n",
       "date                           2024-12-16\n",
       "age_days                                7\n",
       "weight_kg                            3.53\n",
       "length_cm                            50.9\n",
       "head_circumference_cm                32.0\n",
       "temperature_c                        37.0\n",
       "heart_rate_bpm                        147\n",
       "respiratory_rate_bpm                   36\n",
       "oxygen_saturation                      98\n",
       "feeding_type                      Formula\n",
       "feeding_frequency_per_day              11\n",
       "urine_output_count                      8\n",
       "stool_count                             1\n",
       "jaundice_level_mg_dl                  4.0\n",
       "apgar_score                           7.0\n",
       "immunizations_done                     No\n",
       "reflexes_normal                        No\n",
       "risk_level                        Healthy\n",
       "Name: 6, dtype: object"
      ]
     },
     "execution_count": 28,
     "metadata": {},
     "output_type": "execute_result"
    }
   ],
   "source": [
    "df.iloc[6]"
   ]
  },
  {
   "cell_type": "code",
   "execution_count": null,
   "id": "bee5d034-b882-4532-aef1-441901083916",
   "metadata": {
    "execution": {
     "iopub.execute_input": "2025-09-16T03:38:08.299372Z",
     "iopub.status.busy": "2025-09-16T03:38:08.298614Z",
     "iopub.status.idle": "2025-09-16T03:38:08.331844Z",
     "shell.execute_reply": "2025-09-16T03:38:08.330496Z",
     "shell.execute_reply.started": "2025-09-16T03:38:08.299312Z"
    }
   },
   "outputs": [
    {
     "data": {
      "text/html": [
       "<div>\n",
       "<style scoped>\n",
       "    .dataframe tbody tr th:only-of-type {\n",
       "        vertical-align: middle;\n",
       "    }\n",
       "\n",
       "    .dataframe tbody tr th {\n",
       "        vertical-align: top;\n",
       "    }\n",
       "\n",
       "    .dataframe thead th {\n",
       "        text-align: right;\n",
       "    }\n",
       "</style>\n",
       "<table border=\"1\" class=\"dataframe\">\n",
       "  <thead>\n",
       "    <tr style=\"text-align: right;\">\n",
       "      <th></th>\n",
       "      <th>baby_id</th>\n",
       "      <th>name</th>\n",
       "      <th>gender</th>\n",
       "      <th>gestational_age_weeks</th>\n",
       "      <th>birth_weight_kg</th>\n",
       "      <th>birth_length_cm</th>\n",
       "      <th>birth_head_circumference_cm</th>\n",
       "      <th>date</th>\n",
       "      <th>age_days</th>\n",
       "      <th>weight_kg</th>\n",
       "      <th>...</th>\n",
       "      <th>respiratory_rate_bpm</th>\n",
       "      <th>oxygen_saturation</th>\n",
       "      <th>feeding_type</th>\n",
       "      <th>feeding_frequency_per_day</th>\n",
       "      <th>urine_output_count</th>\n",
       "      <th>stool_count</th>\n",
       "      <th>jaundice_level_mg_dl</th>\n",
       "      <th>apgar_score</th>\n",
       "      <th>immunizations_done</th>\n",
       "      <th>reflexes_normal</th>\n",
       "    </tr>\n",
       "  </thead>\n",
       "  <tbody>\n",
       "    <tr>\n",
       "      <th>5</th>\n",
       "      <td>B001</td>\n",
       "      <td>Sara</td>\n",
       "      <td>Female</td>\n",
       "      <td>40.2</td>\n",
       "      <td>3.3</td>\n",
       "      <td>50.0</td>\n",
       "      <td>31.9</td>\n",
       "      <td>2024-12-15</td>\n",
       "      <td>6</td>\n",
       "      <td>3.46</td>\n",
       "      <td>...</td>\n",
       "      <td>37</td>\n",
       "      <td>97</td>\n",
       "      <td>Mixed</td>\n",
       "      <td>10</td>\n",
       "      <td>6</td>\n",
       "      <td>0</td>\n",
       "      <td>10.1</td>\n",
       "      <td>7.0</td>\n",
       "      <td>No</td>\n",
       "      <td>Yes</td>\n",
       "    </tr>\n",
       "  </tbody>\n",
       "</table>\n",
       "<p>1 rows × 24 columns</p>\n",
       "</div>"
      ],
      "text/plain": [
       "  baby_id  name  gender  gestational_age_weeks  birth_weight_kg  \\\n",
       "5    B001  Sara  Female                   40.2              3.3   \n",
       "\n",
       "   birth_length_cm  birth_head_circumference_cm        date  age_days  \\\n",
       "5             50.0                         31.9  2024-12-15         6   \n",
       "\n",
       "   weight_kg  ...  respiratory_rate_bpm  oxygen_saturation  feeding_type  \\\n",
       "5       3.46  ...                    37                 97         Mixed   \n",
       "\n",
       "   feeding_frequency_per_day  urine_output_count  stool_count  \\\n",
       "5                         10                   6            0   \n",
       "\n",
       "  jaundice_level_mg_dl  apgar_score  immunizations_done  reflexes_normal  \n",
       "5                 10.1          7.0                  No              Yes  \n",
       "\n",
       "[1 rows x 24 columns]"
      ]
     },
     "execution_count": 35,
     "metadata": {},
     "output_type": "execute_result"
    }
   ],
   "source": [
    "df.iloc[[5]]"
   ]
  },
  {
   "cell_type": "code",
   "execution_count": 40,
   "id": "6f273fb7-07f3-471f-b3c5-0a733d19e824",
   "metadata": {
    "execution": {
     "iopub.execute_input": "2025-09-16T03:39:21.854998Z",
     "iopub.status.busy": "2025-09-16T03:39:21.854242Z",
     "iopub.status.idle": "2025-09-16T03:39:21.887347Z",
     "shell.execute_reply": "2025-09-16T03:39:21.886438Z",
     "shell.execute_reply.started": "2025-09-16T03:39:21.854937Z"
    }
   },
   "outputs": [
    {
     "data": {
      "text/html": [
       "<div>\n",
       "<style scoped>\n",
       "    .dataframe tbody tr th:only-of-type {\n",
       "        vertical-align: middle;\n",
       "    }\n",
       "\n",
       "    .dataframe tbody tr th {\n",
       "        vertical-align: top;\n",
       "    }\n",
       "\n",
       "    .dataframe thead th {\n",
       "        text-align: right;\n",
       "    }\n",
       "</style>\n",
       "<table border=\"1\" class=\"dataframe\">\n",
       "  <thead>\n",
       "    <tr style=\"text-align: right;\">\n",
       "      <th></th>\n",
       "      <th>baby_id</th>\n",
       "      <th>name</th>\n",
       "      <th>gender</th>\n",
       "      <th>gestational_age_weeks</th>\n",
       "      <th>birth_weight_kg</th>\n",
       "      <th>birth_length_cm</th>\n",
       "      <th>birth_head_circumference_cm</th>\n",
       "      <th>date</th>\n",
       "      <th>age_days</th>\n",
       "      <th>weight_kg</th>\n",
       "      <th>...</th>\n",
       "      <th>oxygen_saturation</th>\n",
       "      <th>feeding_type</th>\n",
       "      <th>feeding_frequency_per_day</th>\n",
       "      <th>urine_output_count</th>\n",
       "      <th>stool_count</th>\n",
       "      <th>jaundice_level_mg_dl</th>\n",
       "      <th>apgar_score</th>\n",
       "      <th>immunizations_done</th>\n",
       "      <th>reflexes_normal</th>\n",
       "      <th>risk_level</th>\n",
       "    </tr>\n",
       "  </thead>\n",
       "  <tbody>\n",
       "    <tr>\n",
       "      <th>41</th>\n",
       "      <td>B002</td>\n",
       "      <td>Nicole</td>\n",
       "      <td>Female</td>\n",
       "      <td>39.4</td>\n",
       "      <td>3.15</td>\n",
       "      <td>50.1</td>\n",
       "      <td>32.0</td>\n",
       "      <td>2025-08-08</td>\n",
       "      <td>12</td>\n",
       "      <td>3.5</td>\n",
       "      <td>...</td>\n",
       "      <td>96</td>\n",
       "      <td>Mixed</td>\n",
       "      <td>8</td>\n",
       "      <td>6</td>\n",
       "      <td>5</td>\n",
       "      <td>3.2</td>\n",
       "      <td>7.0</td>\n",
       "      <td>No</td>\n",
       "      <td>Yes</td>\n",
       "      <td>Healthy</td>\n",
       "    </tr>\n",
       "  </tbody>\n",
       "</table>\n",
       "<p>1 rows × 25 columns</p>\n",
       "</div>"
      ],
      "text/plain": [
       "   baby_id    name  gender  gestational_age_weeks  birth_weight_kg  \\\n",
       "41    B002  Nicole  Female                   39.4             3.15   \n",
       "\n",
       "    birth_length_cm  birth_head_circumference_cm        date  age_days  \\\n",
       "41             50.1                         32.0  2025-08-08        12   \n",
       "\n",
       "    weight_kg  ...  oxygen_saturation  feeding_type  \\\n",
       "41        3.5  ...                 96         Mixed   \n",
       "\n",
       "    feeding_frequency_per_day  urine_output_count  stool_count  \\\n",
       "41                          8                   6            5   \n",
       "\n",
       "    jaundice_level_mg_dl apgar_score  immunizations_done  reflexes_normal  \\\n",
       "41                   3.2         7.0                  No              Yes   \n",
       "\n",
       "    risk_level  \n",
       "41     Healthy  \n",
       "\n",
       "[1 rows x 25 columns]"
      ]
     },
     "execution_count": 40,
     "metadata": {},
     "output_type": "execute_result"
    }
   ],
   "source": [
    "df.iloc[[41]]"
   ]
  },
  {
   "cell_type": "code",
   "execution_count": 34,
   "id": "5eb6ac8d-4a27-47fc-976a-5f13d8c3d997",
   "metadata": {
    "execution": {
     "iopub.execute_input": "2025-09-16T03:38:03.049514Z",
     "iopub.status.busy": "2025-09-16T03:38:03.048004Z",
     "iopub.status.idle": "2025-09-16T03:38:03.076869Z",
     "shell.execute_reply": "2025-09-16T03:38:03.075467Z",
     "shell.execute_reply.started": "2025-09-16T03:38:03.049449Z"
    }
   },
   "outputs": [
    {
     "data": {
      "text/plain": [
       "array(['At Risk'], dtype=object)"
      ]
     },
     "execution_count": 34,
     "metadata": {},
     "output_type": "execute_result"
    }
   ],
   "source": [
    "model_bestC.predict(X.iloc[[5]])"
   ]
  },
  {
   "cell_type": "code",
   "execution_count": 39,
   "id": "e7e91691-6e62-4dc5-a4ce-950e930d7a9b",
   "metadata": {
    "execution": {
     "iopub.execute_input": "2025-09-16T03:39:19.261927Z",
     "iopub.status.busy": "2025-09-16T03:39:19.261170Z",
     "iopub.status.idle": "2025-09-16T03:39:19.288768Z",
     "shell.execute_reply": "2025-09-16T03:39:19.287060Z",
     "shell.execute_reply.started": "2025-09-16T03:39:19.261868Z"
    }
   },
   "outputs": [
    {
     "data": {
      "text/plain": [
       "array(['Healthy'], dtype=object)"
      ]
     },
     "execution_count": 39,
     "metadata": {},
     "output_type": "execute_result"
    }
   ],
   "source": [
    "model_bestC.predict(X.iloc[[41]])"
   ]
  },
  {
   "cell_type": "markdown",
   "id": "f1df235a-e6a1-4d38-b00a-858587ffce6a",
   "metadata": {
    "jp-MarkdownHeadingCollapsed": true
   },
   "source": [
    "### L1"
   ]
  },
  {
   "cell_type": "code",
   "execution_count": 43,
   "id": "14f794c4-c5bf-4e45-b6cd-50b052042a8a",
   "metadata": {
    "execution": {
     "iopub.execute_input": "2025-09-16T01:55:46.146744Z",
     "iopub.status.busy": "2025-09-16T01:55:46.146026Z",
     "iopub.status.idle": "2025-09-16T01:57:34.619065Z",
     "shell.execute_reply": "2025-09-16T01:57:34.618140Z",
     "shell.execute_reply.started": "2025-09-16T01:55:46.146681Z"
    }
   },
   "outputs": [
    {
     "name": "stderr",
     "output_type": "stream",
     "text": [
      "/opt/conda/lib/python3.12/site-packages/sklearn/base.py:380: InconsistentVersionWarning: Trying to unpickle estimator StandardScaler from version 1.7.1 when using version 1.6.1. This might lead to breaking code or invalid results. Use at your own risk. For more info please refer to:\n",
      "https://scikit-learn.org/stable/model_persistence.html#security-maintainability-limitations\n",
      "  warnings.warn(\n",
      "/opt/conda/lib/python3.12/site-packages/sklearn/base.py:380: InconsistentVersionWarning: Trying to unpickle estimator OneHotEncoder from version 1.7.1 when using version 1.6.1. This might lead to breaking code or invalid results. Use at your own risk. For more info please refer to:\n",
      "https://scikit-learn.org/stable/model_persistence.html#security-maintainability-limitations\n",
      "  warnings.warn(\n",
      "/opt/conda/lib/python3.12/site-packages/sklearn/base.py:380: InconsistentVersionWarning: Trying to unpickle estimator ColumnTransformer from version 1.7.1 when using version 1.6.1. This might lead to breaking code or invalid results. Use at your own risk. For more info please refer to:\n",
      "https://scikit-learn.org/stable/model_persistence.html#security-maintainability-limitations\n",
      "  warnings.warn(\n",
      "/opt/conda/lib/python3.12/site-packages/sklearn/base.py:380: InconsistentVersionWarning: Trying to unpickle estimator LogisticRegression from version 1.7.1 when using version 1.6.1. This might lead to breaking code or invalid results. Use at your own risk. For more info please refer to:\n",
      "https://scikit-learn.org/stable/model_persistence.html#security-maintainability-limitations\n",
      "  warnings.warn(\n",
      "/opt/conda/lib/python3.12/site-packages/sklearn/base.py:380: InconsistentVersionWarning: Trying to unpickle estimator Pipeline from version 1.7.1 when using version 1.6.1. This might lead to breaking code or invalid results. Use at your own risk. For more info please refer to:\n",
      "https://scikit-learn.org/stable/model_persistence.html#security-maintainability-limitations\n",
      "  warnings.warn(\n",
      "/opt/conda/lib/python3.12/site-packages/sklearn/preprocessing/_encoders.py:246: UserWarning: Found unknown categories in columns [3] during transform. These unknown categories will be encoded as all zeros\n",
      "  warnings.warn(\n",
      "/opt/conda/lib/python3.12/site-packages/sklearn/preprocessing/_encoders.py:246: UserWarning: Found unknown categories in columns [3] during transform. These unknown categories will be encoded as all zeros\n",
      "  warnings.warn(\n",
      "/opt/conda/lib/python3.12/site-packages/sklearn/preprocessing/_encoders.py:246: UserWarning: Found unknown categories in columns [3] during transform. These unknown categories will be encoded as all zeros\n",
      "  warnings.warn(\n",
      "/opt/conda/lib/python3.12/site-packages/sklearn/preprocessing/_encoders.py:246: UserWarning: Found unknown categories in columns [3] during transform. These unknown categories will be encoded as all zeros\n",
      "  warnings.warn(\n"
     ]
    },
    {
     "name": "stdout",
     "output_type": "stream",
     "text": [
      "C=1e-08    | Train=0.8651 | Val=0.8667 | Test=0.8762\n",
      "C=1e-05    | Train=0.8651 | Val=0.8667 | Test=0.8762\n",
      "C=0.001    | Train=0.8651 | Val=0.8667 | Test=0.8762\n"
     ]
    },
    {
     "name": "stderr",
     "output_type": "stream",
     "text": [
      "/opt/conda/lib/python3.12/site-packages/sklearn/preprocessing/_encoders.py:246: UserWarning: Found unknown categories in columns [3] during transform. These unknown categories will be encoded as all zeros\n",
      "  warnings.warn(\n",
      "/opt/conda/lib/python3.12/site-packages/sklearn/preprocessing/_encoders.py:246: UserWarning: Found unknown categories in columns [3] during transform. These unknown categories will be encoded as all zeros\n",
      "  warnings.warn(\n",
      "/opt/conda/lib/python3.12/site-packages/sklearn/preprocessing/_encoders.py:246: UserWarning: Found unknown categories in columns [3] during transform. These unknown categories will be encoded as all zeros\n",
      "  warnings.warn(\n",
      "/opt/conda/lib/python3.12/site-packages/sklearn/preprocessing/_encoders.py:246: UserWarning: Found unknown categories in columns [3] during transform. These unknown categories will be encoded as all zeros\n",
      "  warnings.warn(\n"
     ]
    },
    {
     "name": "stdout",
     "output_type": "stream",
     "text": [
      "C=0.1      | Train=0.9183 | Val=0.9357 | Test=0.9214\n"
     ]
    },
    {
     "name": "stderr",
     "output_type": "stream",
     "text": [
      "/opt/conda/lib/python3.12/site-packages/sklearn/preprocessing/_encoders.py:246: UserWarning: Found unknown categories in columns [3] during transform. These unknown categories will be encoded as all zeros\n",
      "  warnings.warn(\n",
      "/opt/conda/lib/python3.12/site-packages/sklearn/preprocessing/_encoders.py:246: UserWarning: Found unknown categories in columns [3] during transform. These unknown categories will be encoded as all zeros\n",
      "  warnings.warn(\n"
     ]
    },
    {
     "name": "stdout",
     "output_type": "stream",
     "text": [
      "C=0.2      | Train=0.9143 | Val=0.9405 | Test=0.9214\n"
     ]
    },
    {
     "name": "stderr",
     "output_type": "stream",
     "text": [
      "/opt/conda/lib/python3.12/site-packages/sklearn/preprocessing/_encoders.py:246: UserWarning: Found unknown categories in columns [3] during transform. These unknown categories will be encoded as all zeros\n",
      "  warnings.warn(\n",
      "/opt/conda/lib/python3.12/site-packages/sklearn/preprocessing/_encoders.py:246: UserWarning: Found unknown categories in columns [3] during transform. These unknown categories will be encoded as all zeros\n",
      "  warnings.warn(\n"
     ]
    },
    {
     "name": "stdout",
     "output_type": "stream",
     "text": [
      "C=0.4      | Train=0.9167 | Val=0.9429 | Test=0.9190\n"
     ]
    },
    {
     "name": "stderr",
     "output_type": "stream",
     "text": [
      "/opt/conda/lib/python3.12/site-packages/sklearn/preprocessing/_encoders.py:246: UserWarning: Found unknown categories in columns [3] during transform. These unknown categories will be encoded as all zeros\n",
      "  warnings.warn(\n",
      "/opt/conda/lib/python3.12/site-packages/sklearn/preprocessing/_encoders.py:246: UserWarning: Found unknown categories in columns [3] during transform. These unknown categories will be encoded as all zeros\n",
      "  warnings.warn(\n"
     ]
    },
    {
     "name": "stdout",
     "output_type": "stream",
     "text": [
      "C=0.75     | Train=0.9198 | Val=0.9429 | Test=0.9167\n"
     ]
    },
    {
     "name": "stderr",
     "output_type": "stream",
     "text": [
      "/opt/conda/lib/python3.12/site-packages/sklearn/preprocessing/_encoders.py:246: UserWarning: Found unknown categories in columns [3] during transform. These unknown categories will be encoded as all zeros\n",
      "  warnings.warn(\n",
      "/opt/conda/lib/python3.12/site-packages/sklearn/preprocessing/_encoders.py:246: UserWarning: Found unknown categories in columns [3] during transform. These unknown categories will be encoded as all zeros\n",
      "  warnings.warn(\n"
     ]
    },
    {
     "name": "stdout",
     "output_type": "stream",
     "text": [
      "C=1        | Train=0.9222 | Val=0.9405 | Test=0.9119\n"
     ]
    },
    {
     "name": "stderr",
     "output_type": "stream",
     "text": [
      "/opt/conda/lib/python3.12/site-packages/sklearn/preprocessing/_encoders.py:246: UserWarning: Found unknown categories in columns [3] during transform. These unknown categories will be encoded as all zeros\n",
      "  warnings.warn(\n",
      "/opt/conda/lib/python3.12/site-packages/sklearn/preprocessing/_encoders.py:246: UserWarning: Found unknown categories in columns [3] during transform. These unknown categories will be encoded as all zeros\n",
      "  warnings.warn(\n"
     ]
    },
    {
     "name": "stdout",
     "output_type": "stream",
     "text": [
      "C=1.5      | Train=0.9270 | Val=0.9357 | Test=0.9095\n"
     ]
    },
    {
     "name": "stderr",
     "output_type": "stream",
     "text": [
      "/opt/conda/lib/python3.12/site-packages/sklearn/preprocessing/_encoders.py:246: UserWarning: Found unknown categories in columns [3] during transform. These unknown categories will be encoded as all zeros\n",
      "  warnings.warn(\n",
      "/opt/conda/lib/python3.12/site-packages/sklearn/preprocessing/_encoders.py:246: UserWarning: Found unknown categories in columns [3] during transform. These unknown categories will be encoded as all zeros\n",
      "  warnings.warn(\n"
     ]
    },
    {
     "name": "stdout",
     "output_type": "stream",
     "text": [
      "C=3        | Train=0.9595 | Val=0.9333 | Test=0.9000\n"
     ]
    },
    {
     "name": "stderr",
     "output_type": "stream",
     "text": [
      "/opt/conda/lib/python3.12/site-packages/sklearn/preprocessing/_encoders.py:246: UserWarning: Found unknown categories in columns [3] during transform. These unknown categories will be encoded as all zeros\n",
      "  warnings.warn(\n",
      "/opt/conda/lib/python3.12/site-packages/sklearn/preprocessing/_encoders.py:246: UserWarning: Found unknown categories in columns [3] during transform. These unknown categories will be encoded as all zeros\n",
      "  warnings.warn(\n"
     ]
    },
    {
     "name": "stdout",
     "output_type": "stream",
     "text": [
      "C=5        | Train=0.9738 | Val=0.9286 | Test=0.8929\n"
     ]
    },
    {
     "name": "stderr",
     "output_type": "stream",
     "text": [
      "/opt/conda/lib/python3.12/site-packages/sklearn/preprocessing/_encoders.py:246: UserWarning: Found unknown categories in columns [3] during transform. These unknown categories will be encoded as all zeros\n",
      "  warnings.warn(\n",
      "/opt/conda/lib/python3.12/site-packages/sklearn/preprocessing/_encoders.py:246: UserWarning: Found unknown categories in columns [3] during transform. These unknown categories will be encoded as all zeros\n",
      "  warnings.warn(\n"
     ]
    },
    {
     "name": "stdout",
     "output_type": "stream",
     "text": [
      "C=10       | Train=0.9770 | Val=0.9190 | Test=0.8881\n"
     ]
    },
    {
     "name": "stderr",
     "output_type": "stream",
     "text": [
      "/opt/conda/lib/python3.12/site-packages/sklearn/preprocessing/_encoders.py:246: UserWarning: Found unknown categories in columns [3] during transform. These unknown categories will be encoded as all zeros\n",
      "  warnings.warn(\n",
      "/opt/conda/lib/python3.12/site-packages/sklearn/preprocessing/_encoders.py:246: UserWarning: Found unknown categories in columns [3] during transform. These unknown categories will be encoded as all zeros\n",
      "  warnings.warn(\n"
     ]
    },
    {
     "name": "stdout",
     "output_type": "stream",
     "text": [
      "C=15       | Train=0.9817 | Val=0.9167 | Test=0.8833\n"
     ]
    },
    {
     "name": "stderr",
     "output_type": "stream",
     "text": [
      "/opt/conda/lib/python3.12/site-packages/sklearn/preprocessing/_encoders.py:246: UserWarning: Found unknown categories in columns [3] during transform. These unknown categories will be encoded as all zeros\n",
      "  warnings.warn(\n",
      "/opt/conda/lib/python3.12/site-packages/sklearn/preprocessing/_encoders.py:246: UserWarning: Found unknown categories in columns [3] during transform. These unknown categories will be encoded as all zeros\n",
      "  warnings.warn(\n"
     ]
    },
    {
     "name": "stdout",
     "output_type": "stream",
     "text": [
      "C=20       | Train=0.9825 | Val=0.9071 | Test=0.8833\n"
     ]
    },
    {
     "name": "stderr",
     "output_type": "stream",
     "text": [
      "/opt/conda/lib/python3.12/site-packages/sklearn/preprocessing/_encoders.py:246: UserWarning: Found unknown categories in columns [3] during transform. These unknown categories will be encoded as all zeros\n",
      "  warnings.warn(\n",
      "/opt/conda/lib/python3.12/site-packages/sklearn/preprocessing/_encoders.py:246: UserWarning: Found unknown categories in columns [3] during transform. These unknown categories will be encoded as all zeros\n",
      "  warnings.warn(\n"
     ]
    },
    {
     "name": "stdout",
     "output_type": "stream",
     "text": [
      "C=100      | Train=0.9841 | Val=0.9071 | Test=0.8857\n"
     ]
    },
    {
     "name": "stderr",
     "output_type": "stream",
     "text": [
      "/opt/conda/lib/python3.12/site-packages/sklearn/preprocessing/_encoders.py:246: UserWarning: Found unknown categories in columns [3] during transform. These unknown categories will be encoded as all zeros\n",
      "  warnings.warn(\n",
      "/opt/conda/lib/python3.12/site-packages/sklearn/preprocessing/_encoders.py:246: UserWarning: Found unknown categories in columns [3] during transform. These unknown categories will be encoded as all zeros\n",
      "  warnings.warn(\n"
     ]
    },
    {
     "name": "stdout",
     "output_type": "stream",
     "text": [
      "C=300      | Train=0.9841 | Val=0.8976 | Test=0.8857\n"
     ]
    },
    {
     "name": "stderr",
     "output_type": "stream",
     "text": [
      "/opt/conda/lib/python3.12/site-packages/sklearn/preprocessing/_encoders.py:246: UserWarning: Found unknown categories in columns [3] during transform. These unknown categories will be encoded as all zeros\n",
      "  warnings.warn(\n",
      "/opt/conda/lib/python3.12/site-packages/sklearn/preprocessing/_encoders.py:246: UserWarning: Found unknown categories in columns [3] during transform. These unknown categories will be encoded as all zeros\n",
      "  warnings.warn(\n"
     ]
    },
    {
     "name": "stdout",
     "output_type": "stream",
     "text": [
      "C=10000    | Train=0.9841 | Val=0.8905 | Test=0.8810\n"
     ]
    },
    {
     "data": {
      "image/png": "[encoded data removed]",
      "text/plain": [
       "<Figure size 1000x600 with 1 Axes>"
      ]
     },
     "metadata": {},
     "output_type": "display_data"
    }
   ],
   "source": [
    "import matplotlib.pyplot as plt\n",
    "from sklearn.model_selection import train_test_split\n",
    "from sklearn.base import clone\n",
    "from joblib import load\n",
    "import pandas as pd\n",
    "\n",
    "# -----------------------------\n",
    "# Load pipeline (preprocess + LogisticRegression)\n",
    "# -----------------------------\n",
    "pipe = load(\"ML Lab 2/model.joblib\")\n",
    "\n",
    "df = pd.read_csv(\"ML Lab 2/historical.csv\")\n",
    "df = df.drop(columns=['apgar_score'])\n",
    "\n",
    "target_col = \"risk_level\"\n",
    "X = df.drop(columns=[target_col])\n",
    "y = df[target_col]\n",
    "\n",
    "# Patch deprecated param in ColumnTransformer\n",
    "ct = pipe.named_steps['preprocess']\n",
    "ct.set_params(force_int_remainder_cols=False)\n",
    "pipe.named_steps['preprocess'] = ct\n",
    "\n",
    "# -----------------------------\n",
    "# Outer split: hold-out test set\n",
    "# -----------------------------\n",
    "X_train_full, X_test, y_train_full, y_test = train_test_split(\n",
    "    X, y, test_size=0.20, random_state=42\n",
    ")\n",
    "\n",
    "# Inner split: train vs validation from outer training\n",
    "X_train, X_val, y_train, y_val = train_test_split(\n",
    "    X_train_full, y_train_full, test_size=0.25, random_state=42\n",
    ")\n",
    "# (Resulting split = 60% train, 20% val, 20% test)\n",
    "\n",
    "# -----------------------------\n",
    "# Hyperparameter values\n",
    "# -----------------------------\n",
    "C_values = [1e-8, 1e-5, 1e-3, 0.1, 0.2, 0.4, 0.75, 1, 1.5, 3, 5, 10, 15, 20, 100, 300, 10000]\n",
    "\n",
    "train_accs = []\n",
    "val_accs = []\n",
    "test_accs = []\n",
    "\n",
    "# -----------------------------\n",
    "# Loop through C values (L1)\n",
    "# -----------------------------\n",
    "for c_val in C_values:\n",
    "    # Train on inner train, score on train + val\n",
    "    model_inner = clone(pipe).set_params(\n",
    "        clf__penalty=\"l1\",\n",
    "        clf__solver=\"saga\",   # saga supports L1 + multiclass\n",
    "        clf__C=c_val,\n",
    "        clf__max_iter=5000    # bump iterations for convergence\n",
    "    )\n",
    "    model_inner.fit(X_train, y_train)\n",
    "\n",
    "    train_acc = model_inner.score(X_train, y_train)\n",
    "    val_acc = model_inner.score(X_val, y_val)\n",
    "\n",
    "    # Retrain on full outer training set, score on test\n",
    "    model_full = clone(pipe).set_params(\n",
    "        clf__penalty=\"l1\",\n",
    "        clf__solver=\"saga\",\n",
    "        clf__C=c_val,\n",
    "        clf__max_iter=5000\n",
    "    )\n",
    "    model_full.fit(X_train_full, y_train_full)\n",
    "    test_acc = model_full.score(X_test, y_test)\n",
    "\n",
    "    train_accs.append(train_acc)\n",
    "    val_accs.append(val_acc)\n",
    "    test_accs.append(test_acc)\n",
    "\n",
    "    print(f\"C={c_val:<8} | Train={train_acc:.4f} | Val={val_acc:.4f} | Test={test_acc:.4f}\")\n",
    "\n",
    "# -----------------------------\n",
    "# Plot results\n",
    "# -----------------------------\n",
    "plt.figure(figsize=(10, 6))\n",
    "plt.plot(C_values, train_accs, marker='o', label=\"Train Accuracy (L1)\")\n",
    "plt.plot(C_values, val_accs, marker='s', label=\"Validation Accuracy (L1)\")\n",
    "plt.plot(C_values, test_accs, marker='^', label=\"Test Accuracy (L1)\")\n",
    "plt.xscale('log')\n",
    "plt.xlabel(\"C (log scale)\")\n",
    "plt.ylabel(\"Accuracy\")\n",
    "plt.title(\"3-Way Split with Logistic Regression (L1 penalty)\")\n",
    "plt.legend()\n",
    "plt.grid(True)\n",
    "plt.show()\n"
   ]
  },
  {
   "cell_type": "code",
   "execution_count": 39,
   "id": "ec8ef9ab-cd16-434f-958c-39fb15094536",
   "metadata": {
    "execution": {
     "iopub.execute_input": "2025-09-16T01:46:55.224538Z",
     "iopub.status.busy": "2025-09-16T01:46:55.223796Z",
     "iopub.status.idle": "2025-09-16T01:46:55.241054Z",
     "shell.execute_reply": "2025-09-16T01:46:55.239508Z",
     "shell.execute_reply.started": "2025-09-16T01:46:55.224477Z"
    }
   },
   "outputs": [
    {
     "data": {
      "text/plain": [
       "baby_id                           0\n",
       "name                              0\n",
       "gender                            0\n",
       "gestational_age_weeks             0\n",
       "birth_weight_kg                   0\n",
       "birth_length_cm                   0\n",
       "birth_head_circumference_cm       0\n",
       "date                              0\n",
       "age_days                          0\n",
       "weight_kg                         0\n",
       "length_cm                         0\n",
       "head_circumference_cm             0\n",
       "temperature_c                     0\n",
       "heart_rate_bpm                    0\n",
       "respiratory_rate_bpm              0\n",
       "oxygen_saturation                 0\n",
       "feeding_type                      0\n",
       "feeding_frequency_per_day         0\n",
       "urine_output_count                0\n",
       "stool_count                       0\n",
       "jaundice_level_mg_dl              0\n",
       "apgar_score                    2030\n",
       "immunizations_done                0\n",
       "reflexes_normal                   0\n",
       "risk_level                        0\n",
       "dtype: int64"
      ]
     },
     "execution_count": 39,
     "metadata": {},
     "output_type": "execute_result"
    }
   ],
   "source": [
    "nan_counts = df.isna().sum()\n",
    "nan_counts"
   ]
  },
  {
   "cell_type": "code",
   "execution_count": 37,
   "id": "123c74ad-f89f-4b29-b0a0-76e061f713b9",
   "metadata": {
    "execution": {
     "iopub.execute_input": "2025-09-16T01:46:44.679142Z",
     "iopub.status.busy": "2025-09-16T01:46:44.677699Z",
     "iopub.status.idle": "2025-09-16T01:46:44.688424Z",
     "shell.execute_reply": "2025-09-16T01:46:44.687064Z",
     "shell.execute_reply.started": "2025-09-16T01:46:44.679081Z"
    }
   },
   "outputs": [],
   "source": [
    "df = df.drop(columns=['baby_id', 'name'])"
   ]
  },
  {
   "cell_type": "markdown",
   "id": "8c5ca11b-c3ce-42f5-bf24-3193cd59a21e",
   "metadata": {},
   "source": [
    "### L2 without baby id and name"
   ]
  },
  {
   "cell_type": "code",
   "execution_count": 13,
   "id": "9cc4ccfd-8160-441b-a967-1855253a824e",
   "metadata": {
    "execution": {
     "iopub.execute_input": "2025-09-16T03:20:36.492787Z",
     "iopub.status.busy": "2025-09-16T03:20:36.492041Z",
     "iopub.status.idle": "2025-09-16T03:22:18.994213Z",
     "shell.execute_reply": "2025-09-16T03:22:18.993113Z",
     "shell.execute_reply.started": "2025-09-16T03:20:36.492725Z"
    }
   },
   "outputs": [
    {
     "name": "stderr",
     "output_type": "stream",
     "text": [
      "/home/bsdsba2027/rvelasco/.local/lib/python3.12/site-packages/sklearn/base.py:380: InconsistentVersionWarning: Trying to unpickle estimator StandardScaler from version 1.7.1 when using version 1.6.1. This might lead to breaking code or invalid results. Use at your own risk. For more info please refer to:\n",
      "https://scikit-learn.org/stable/model_persistence.html#security-maintainability-limitations\n",
      "  warnings.warn(\n",
      "/home/bsdsba2027/rvelasco/.local/lib/python3.12/site-packages/sklearn/base.py:380: InconsistentVersionWarning: Trying to unpickle estimator OneHotEncoder from version 1.7.1 when using version 1.6.1. This might lead to breaking code or invalid results. Use at your own risk. For more info please refer to:\n",
      "https://scikit-learn.org/stable/model_persistence.html#security-maintainability-limitations\n",
      "  warnings.warn(\n",
      "/home/bsdsba2027/rvelasco/.local/lib/python3.12/site-packages/sklearn/base.py:380: InconsistentVersionWarning: Trying to unpickle estimator ColumnTransformer from version 1.7.1 when using version 1.6.1. This might lead to breaking code or invalid results. Use at your own risk. For more info please refer to:\n",
      "https://scikit-learn.org/stable/model_persistence.html#security-maintainability-limitations\n",
      "  warnings.warn(\n",
      "/home/bsdsba2027/rvelasco/.local/lib/python3.12/site-packages/sklearn/base.py:380: InconsistentVersionWarning: Trying to unpickle estimator LogisticRegression from version 1.7.1 when using version 1.6.1. This might lead to breaking code or invalid results. Use at your own risk. For more info please refer to:\n",
      "https://scikit-learn.org/stable/model_persistence.html#security-maintainability-limitations\n",
      "  warnings.warn(\n",
      "/home/bsdsba2027/rvelasco/.local/lib/python3.12/site-packages/sklearn/base.py:380: InconsistentVersionWarning: Trying to unpickle estimator Pipeline from version 1.7.1 when using version 1.6.1. This might lead to breaking code or invalid results. Use at your own risk. For more info please refer to:\n",
      "https://scikit-learn.org/stable/model_persistence.html#security-maintainability-limitations\n",
      "  warnings.warn(\n"
     ]
    },
    {
     "name": "stdout",
     "output_type": "stream",
     "text": [
      "C=1e-08    | Train=0.8651 | Val=0.8667 | Test=0.8762\n",
      "C=1e-05    | Train=0.8651 | Val=0.8667 | Test=0.8762\n",
      "C=0.001    | Train=0.8651 | Val=0.8667 | Test=0.8762\n",
      "C=0.1      | Train=0.9183 | Val=0.9452 | Test=0.9214\n",
      "C=0.2      | Train=0.9198 | Val=0.9476 | Test=0.9190\n",
      "C=0.4      | Train=0.9214 | Val=0.9452 | Test=0.9214\n",
      "C=0.75     | Train=0.9214 | Val=0.9452 | Test=0.9190\n",
      "C=1        | Train=0.9206 | Val=0.9452 | Test=0.9190\n",
      "C=1.5      | Train=0.9206 | Val=0.9452 | Test=0.9214\n",
      "C=3        | Train=0.9206 | Val=0.9476 | Test=0.9190\n",
      "C=5        | Train=0.9206 | Val=0.9476 | Test=0.9190\n",
      "C=10       | Train=0.9206 | Val=0.9452 | Test=0.9190\n",
      "C=15       | Train=0.9198 | Val=0.9452 | Test=0.9190\n",
      "C=20       | Train=0.9198 | Val=0.9452 | Test=0.9190\n",
      "C=100      | Train=0.9183 | Val=0.9429 | Test=0.9167\n",
      "C=300      | Train=0.9190 | Val=0.9429 | Test=0.9143\n",
      "C=10000    | Train=0.9190 | Val=0.9429 | Test=0.9143\n"
     ]
    },
    {
     "data": {
      "image/png": "[encoded data removed]",
      "text/plain": [
       "<Figure size 1000x600 with 1 Axes>"
      ]
     },
     "metadata": {},
     "output_type": "display_data"
    }
   ],
   "source": [
    "import matplotlib.pyplot as plt\n",
    "from sklearn.model_selection import train_test_split\n",
    "from sklearn.base import clone\n",
    "from joblib import load\n",
    "import pandas as pd\n",
    "\n",
    "# -----------------------------\n",
    "# Load pipeline (preprocess + LogisticRegression)\n",
    "# -----------------------------\n",
    "pipe = load(\"model.joblib\")\n",
    "\n",
    "df = pd.read_csv(\"historical.csv\")\n",
    "df['apgar_score'] = df['apgar_score'].ffill()\n",
    "df = df.drop(columns=['baby_id', 'name', 'date'])\n",
    "\n",
    "target_col = \"risk_level\"\n",
    "X = df.drop(columns=[target_col])\n",
    "y = df[target_col]\n",
    "\n",
    "# Patch deprecated param in ColumnTransformer\n",
    "ct = pipe.named_steps['preprocess']\n",
    "ct.set_params(force_int_remainder_cols=False)\n",
    "pipe.named_steps['preprocess'] = ct\n",
    "\n",
    "# -----------------------------\n",
    "# Outer split: hold-out test set\n",
    "# -----------------------------\n",
    "X_train_full, X_test, y_train_full, y_test = train_test_split(\n",
    "    X, y, test_size=0.20, random_state=42\n",
    ")\n",
    "\n",
    "# Inner split: train vs validation from outer training\n",
    "X_train, X_val, y_train, y_val = train_test_split(\n",
    "    X_train_full, y_train_full, test_size=0.25, random_state=42\n",
    ")\n",
    "# (Resulting split = 60% train, 20% val, 20% test)\n",
    "\n",
    "# -----------------------------\n",
    "# Hyperparameter values\n",
    "# -----------------------------\n",
    "C_values = [1e-8, 1e-5, 1e-3, 0.1, 0.2, 0.4, 0.75, 1, 1.5, 3, 5, 10, 15, 20, 100, 300, 10000]\n",
    "\n",
    "train_accs = []\n",
    "val_accs = []\n",
    "test_accs = []\n",
    "\n",
    "# -----------------------------\n",
    "# Loop through C values\n",
    "# -----------------------------\n",
    "for c_val in C_values:\n",
    "    # Train on inner train, score on train + val\n",
    "    model_inner = clone(pipe).set_params(clf__C=c_val, clf__max_iter=2000)\n",
    "    model_inner.fit(X_train, y_train)\n",
    "\n",
    "    train_acc = model_inner.score(X_train, y_train)\n",
    "    val_acc = model_inner.score(X_val, y_val)\n",
    "\n",
    "    # Retrain on full outer training set, score on test\n",
    "    model_full = clone(pipe).set_params(clf__C=c_val, clf__max_iter=2000)\n",
    "    model_full.fit(X_train_full, y_train_full)\n",
    "    test_acc = model_full.score(X_test, y_test)\n",
    "\n",
    "    train_accs.append(train_acc)\n",
    "    val_accs.append(val_acc)\n",
    "    test_accs.append(test_acc)\n",
    "\n",
    "    print(f\"C={c_val:<8} | Train={train_acc:.4f} | Val={val_acc:.4f} | Test={test_acc:.4f}\")\n",
    "\n",
    "# -----------------------------\n",
    "# Plot results\n",
    "# -----------------------------\n",
    "plt.figure(figsize=(10, 6))\n",
    "plt.plot(C_values, train_accs, marker='o', label=\"Train Accuracy\")\n",
    "plt.plot(C_values, val_accs, marker='s', label=\"Validation Accuracy\")\n",
    "plt.plot(C_values, test_accs, marker='^', label=\"Test Accuracy\")\n",
    "plt.xscale('log')\n",
    "plt.xlabel(\"C (log scale)\")\n",
    "plt.ylabel(\"Accuracy\")\n",
    "plt.title(\"3-Way Split: Train, Validation, Test Accuracy across C values\")\n",
    "plt.legend()\n",
    "plt.grid(True)\n",
    "plt.show()\n"
   ]
  },
  {
   "cell_type": "code",
   "execution_count": null,
   "id": "41d365cb-f57a-42d1-b14e-5ca441533aec",
   "metadata": {},
   "outputs": [],
   "source": []
  }
 ],
 "metadata": {
  "kernelspec": {
   "display_name": "Python 3",
   "language": "python",
   "name": "python3"
  },
  "language_info": {
   "codemirror_mode": {
    "name": "ipython",
    "version": 3
   },
   "file_extension": ".py",
   "mimetype": "text/x-python",
   "name": "python",
   "nbconvert_exporter": "python",
   "pygments_lexer": "ipython3",
   "version": "3.13.1"
  }
 },
 "nbformat": 4,
 "nbformat_minor": 5
}
